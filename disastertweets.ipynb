{
 "cells": [
  {
   "cell_type": "code",
   "execution_count": 1,
   "id": "dfd1880d",
   "metadata": {
    "_cell_guid": "b1076dfc-b9ad-4769-8c92-a6c4dae69d19",
    "_uuid": "8f2839f25d086af736a60e9eeb907d3b93b6e0e5",
    "execution": {
     "iopub.execute_input": "2023-04-08T20:37:14.343681Z",
     "iopub.status.busy": "2023-04-08T20:37:14.343265Z",
     "iopub.status.idle": "2023-04-08T20:37:14.358181Z",
     "shell.execute_reply": "2023-04-08T20:37:14.356718Z"
    },
    "papermill": {
     "duration": 0.02694,
     "end_time": "2023-04-08T20:37:14.361076",
     "exception": false,
     "start_time": "2023-04-08T20:37:14.334136",
     "status": "completed"
    },
    "tags": []
   },
   "outputs": [
    {
     "name": "stdout",
     "output_type": "stream",
     "text": [
      "/kaggle/input/nlp-getting-started/sample_submission.csv\n",
      "/kaggle/input/nlp-getting-started/train.csv\n",
      "/kaggle/input/nlp-getting-started/test.csv\n"
     ]
    }
   ],
   "source": [
    "# This Python 3 environment comes with many helpful analytics libraries installed\n",
    "# It is defined by the kaggle/python Docker image: https://github.com/kaggle/docker-python\n",
    "# For example, here's several helpful packages to load\n",
    "\n",
    "import numpy as np # linear algebra\n",
    "import pandas as pd # data processing, CSV file I/O (e.g. pd.read_csv)\n",
    "\n",
    "# Input data files are available in the read-only \"../input/\" directory\n",
    "# For example, running this (by clicking run or pressing Shift+Enter) will list all files under the input directory\n",
    "\n",
    "import os\n",
    "for dirname, _, filenames in os.walk('/kaggle/input'):\n",
    "    for filename in filenames:\n",
    "        print(os.path.join(dirname, filename))\n",
    "\n",
    "# You can write up to 20GB to the current directory (/kaggle/working/) that gets preserved as output when you create a version using \"Save & Run All\" \n",
    "# You can also write temporary files to /kaggle/temp/, but they won't be saved outside of the current session"
   ]
  },
  {
   "cell_type": "code",
   "execution_count": 2,
   "id": "1e27ebdb",
   "metadata": {
    "execution": {
     "iopub.execute_input": "2023-04-08T20:37:14.375443Z",
     "iopub.status.busy": "2023-04-08T20:37:14.374671Z",
     "iopub.status.idle": "2023-04-08T20:37:24.221039Z",
     "shell.execute_reply": "2023-04-08T20:37:24.219768Z"
    },
    "papermill": {
     "duration": 9.856692,
     "end_time": "2023-04-08T20:37:24.223992",
     "exception": false,
     "start_time": "2023-04-08T20:37:14.367300",
     "status": "completed"
    },
    "tags": []
   },
   "outputs": [],
   "source": [
    "import tensorflow as tf\n",
    "import matplotlib.pyplot as plt"
   ]
  },
  {
   "cell_type": "code",
   "execution_count": 3,
   "id": "d7eecb95",
   "metadata": {
    "execution": {
     "iopub.execute_input": "2023-04-08T20:37:24.238122Z",
     "iopub.status.busy": "2023-04-08T20:37:24.237331Z",
     "iopub.status.idle": "2023-04-08T20:37:24.298459Z",
     "shell.execute_reply": "2023-04-08T20:37:24.297146Z"
    },
    "papermill": {
     "duration": 0.071362,
     "end_time": "2023-04-08T20:37:24.301287",
     "exception": false,
     "start_time": "2023-04-08T20:37:24.229925",
     "status": "completed"
    },
    "tags": []
   },
   "outputs": [],
   "source": [
    "df = pd.read_csv('../input/nlp-getting-started/train.csv')"
   ]
  },
  {
   "cell_type": "code",
   "execution_count": 4,
   "id": "eacc5cd4",
   "metadata": {
    "execution": {
     "iopub.execute_input": "2023-04-08T20:37:24.315573Z",
     "iopub.status.busy": "2023-04-08T20:37:24.314742Z",
     "iopub.status.idle": "2023-04-08T20:37:24.346506Z",
     "shell.execute_reply": "2023-04-08T20:37:24.345355Z"
    },
    "papermill": {
     "duration": 0.042163,
     "end_time": "2023-04-08T20:37:24.349582",
     "exception": false,
     "start_time": "2023-04-08T20:37:24.307419",
     "status": "completed"
    },
    "tags": []
   },
   "outputs": [
    {
     "data": {
      "text/html": [
       "<div>\n",
       "<style scoped>\n",
       "    .dataframe tbody tr th:only-of-type {\n",
       "        vertical-align: middle;\n",
       "    }\n",
       "\n",
       "    .dataframe tbody tr th {\n",
       "        vertical-align: top;\n",
       "    }\n",
       "\n",
       "    .dataframe thead th {\n",
       "        text-align: right;\n",
       "    }\n",
       "</style>\n",
       "<table border=\"1\" class=\"dataframe\">\n",
       "  <thead>\n",
       "    <tr style=\"text-align: right;\">\n",
       "      <th></th>\n",
       "      <th>id</th>\n",
       "      <th>keyword</th>\n",
       "      <th>location</th>\n",
       "      <th>text</th>\n",
       "      <th>target</th>\n",
       "    </tr>\n",
       "  </thead>\n",
       "  <tbody>\n",
       "    <tr>\n",
       "      <th>0</th>\n",
       "      <td>1</td>\n",
       "      <td>NaN</td>\n",
       "      <td>NaN</td>\n",
       "      <td>Our Deeds are the Reason of this #earthquake M...</td>\n",
       "      <td>1</td>\n",
       "    </tr>\n",
       "    <tr>\n",
       "      <th>1</th>\n",
       "      <td>4</td>\n",
       "      <td>NaN</td>\n",
       "      <td>NaN</td>\n",
       "      <td>Forest fire near La Ronge Sask. Canada</td>\n",
       "      <td>1</td>\n",
       "    </tr>\n",
       "    <tr>\n",
       "      <th>2</th>\n",
       "      <td>5</td>\n",
       "      <td>NaN</td>\n",
       "      <td>NaN</td>\n",
       "      <td>All residents asked to 'shelter in place' are ...</td>\n",
       "      <td>1</td>\n",
       "    </tr>\n",
       "    <tr>\n",
       "      <th>3</th>\n",
       "      <td>6</td>\n",
       "      <td>NaN</td>\n",
       "      <td>NaN</td>\n",
       "      <td>13,000 people receive #wildfires evacuation or...</td>\n",
       "      <td>1</td>\n",
       "    </tr>\n",
       "    <tr>\n",
       "      <th>4</th>\n",
       "      <td>7</td>\n",
       "      <td>NaN</td>\n",
       "      <td>NaN</td>\n",
       "      <td>Just got sent this photo from Ruby #Alaska as ...</td>\n",
       "      <td>1</td>\n",
       "    </tr>\n",
       "  </tbody>\n",
       "</table>\n",
       "</div>"
      ],
      "text/plain": [
       "   id keyword location                                               text  \\\n",
       "0   1     NaN      NaN  Our Deeds are the Reason of this #earthquake M...   \n",
       "1   4     NaN      NaN             Forest fire near La Ronge Sask. Canada   \n",
       "2   5     NaN      NaN  All residents asked to 'shelter in place' are ...   \n",
       "3   6     NaN      NaN  13,000 people receive #wildfires evacuation or...   \n",
       "4   7     NaN      NaN  Just got sent this photo from Ruby #Alaska as ...   \n",
       "\n",
       "   target  \n",
       "0       1  \n",
       "1       1  \n",
       "2       1  \n",
       "3       1  \n",
       "4       1  "
      ]
     },
     "execution_count": 4,
     "metadata": {},
     "output_type": "execute_result"
    }
   ],
   "source": [
    "df.head()"
   ]
  },
  {
   "cell_type": "code",
   "execution_count": 5,
   "id": "35682c6b",
   "metadata": {
    "execution": {
     "iopub.execute_input": "2023-04-08T20:37:24.363927Z",
     "iopub.status.busy": "2023-04-08T20:37:24.363486Z",
     "iopub.status.idle": "2023-04-08T20:37:24.728026Z",
     "shell.execute_reply": "2023-04-08T20:37:24.726551Z"
    },
    "papermill": {
     "duration": 0.374953,
     "end_time": "2023-04-08T20:37:24.730858",
     "exception": false,
     "start_time": "2023-04-08T20:37:24.355905",
     "status": "completed"
    },
    "tags": []
   },
   "outputs": [
    {
     "data": {
      "text/plain": [
       "31"
      ]
     },
     "execution_count": 5,
     "metadata": {},
     "output_type": "execute_result"
    },
    {
     "data": {
      "image/png": "[encoded data removed]",
      "text/plain": [
       "<Figure size 640x480 with 1 Axes>"
      ]
     },
     "metadata": {},
     "output_type": "display_data"
    }
   ],
   "source": [
    "x = df.text.apply(str.split).apply(len)\n",
    "x.hist()\n",
    "plt.show\n",
    "x.max()"
   ]
  },
  {
   "cell_type": "code",
   "execution_count": 6,
   "id": "a2c22e7a",
   "metadata": {
    "execution": {
     "iopub.execute_input": "2023-04-08T20:37:24.746159Z",
     "iopub.status.busy": "2023-04-08T20:37:24.745688Z",
     "iopub.status.idle": "2023-04-08T20:37:24.751263Z",
     "shell.execute_reply": "2023-04-08T20:37:24.749911Z"
    },
    "papermill": {
     "duration": 0.0162,
     "end_time": "2023-04-08T20:37:24.753740",
     "exception": false,
     "start_time": "2023-04-08T20:37:24.737540",
     "status": "completed"
    },
    "tags": []
   },
   "outputs": [],
   "source": [
    "#X_train = df.text.apply(lambda x:\"\".join(ch.lower() for ch in x if ch.isalnum() or ch == \" \"))"
   ]
  },
  {
   "cell_type": "code",
   "execution_count": 7,
   "id": "77c10a48",
   "metadata": {
    "execution": {
     "iopub.execute_input": "2023-04-08T20:37:24.769783Z",
     "iopub.status.busy": "2023-04-08T20:37:24.769046Z",
     "iopub.status.idle": "2023-04-08T20:37:24.840501Z",
     "shell.execute_reply": "2023-04-08T20:37:24.839095Z"
    },
    "papermill": {
     "duration": 0.083272,
     "end_time": "2023-04-08T20:37:24.843703",
     "exception": false,
     "start_time": "2023-04-08T20:37:24.760431",
     "status": "completed"
    },
    "tags": []
   },
   "outputs": [],
   "source": [
    "stop_words = [ 'stop', 'the', 'to', 'and', 'a', 'in', 'it', 'is', 'i', 'that', 'had', 'on', 'for', 'were', 'was', 'of', 'as', 'are'] # mostly from NLTK\n",
    "df.text = df.text.str.lower()\n",
    "df.text = df.text.apply(lambda x: \" \".join(word for word in x.split(\" \") if word not in stop_words))"
   ]
  },
  {
   "cell_type": "code",
   "execution_count": 8,
   "id": "8d5028ed",
   "metadata": {
    "execution": {
     "iopub.execute_input": "2023-04-08T20:37:24.859363Z",
     "iopub.status.busy": "2023-04-08T20:37:24.858904Z",
     "iopub.status.idle": "2023-04-08T20:37:24.867771Z",
     "shell.execute_reply": "2023-04-08T20:37:24.866549Z"
    },
    "papermill": {
     "duration": 0.019931,
     "end_time": "2023-04-08T20:37:24.870436",
     "exception": false,
     "start_time": "2023-04-08T20:37:24.850505",
     "status": "completed"
    },
    "tags": []
   },
   "outputs": [
    {
     "data": {
      "text/plain": [
       "0    our deeds reason this #earthquake may allah fo...\n",
       "1               forest fire near la ronge sask. canada\n",
       "2    all residents asked 'shelter place' being noti...\n",
       "3    13,000 people receive #wildfires evacuation or...\n",
       "4    just got sent this photo from ruby #alaska smo...\n",
       "Name: text, dtype: object"
      ]
     },
     "execution_count": 8,
     "metadata": {},
     "output_type": "execute_result"
    }
   ],
   "source": [
    "df.text.head()"
   ]
  },
  {
   "cell_type": "code",
   "execution_count": 9,
   "id": "eefb5af6",
   "metadata": {
    "execution": {
     "iopub.execute_input": "2023-04-08T20:37:24.886081Z",
     "iopub.status.busy": "2023-04-08T20:37:24.884976Z",
     "iopub.status.idle": "2023-04-08T20:37:24.902608Z",
     "shell.execute_reply": "2023-04-08T20:37:24.901403Z"
    },
    "papermill": {
     "duration": 0.028249,
     "end_time": "2023-04-08T20:37:24.905366",
     "exception": false,
     "start_time": "2023-04-08T20:37:24.877117",
     "status": "completed"
    },
    "tags": []
   },
   "outputs": [
    {
     "data": {
      "text/plain": [
       "((6090, 5), (1523, 5))"
      ]
     },
     "execution_count": 9,
     "metadata": {},
     "output_type": "execute_result"
    }
   ],
   "source": [
    "train = df.sample(frac=0.8, replace=False, random_state=42)\n",
    "df.index.drop(train.index)\n",
    "test = df.loc[df.index.drop(train.index)]\n",
    "train.shape, test.shape"
   ]
  },
  {
   "cell_type": "code",
   "execution_count": 10,
   "id": "e3ee806d",
   "metadata": {
    "execution": {
     "iopub.execute_input": "2023-04-08T20:37:24.920999Z",
     "iopub.status.busy": "2023-04-08T20:37:24.920604Z",
     "iopub.status.idle": "2023-04-08T20:37:24.930887Z",
     "shell.execute_reply": "2023-04-08T20:37:24.929702Z"
    },
    "papermill": {
     "duration": 0.021012,
     "end_time": "2023-04-08T20:37:24.933516",
     "exception": false,
     "start_time": "2023-04-08T20:37:24.912504",
     "status": "completed"
    },
    "tags": []
   },
   "outputs": [
    {
     "data": {
      "text/plain": [
       "((6090,), (6090,), (1523,), (1523,))"
      ]
     },
     "execution_count": 10,
     "metadata": {},
     "output_type": "execute_result"
    }
   ],
   "source": [
    "X_train = train.text.values.flatten()\n",
    "y_train = train.target.values.flatten()\n",
    "X_test = test.text.values.flatten()\n",
    "y_test = test.target.values.flatten()\n",
    "X_train.shape, y_train.shape, X_test.shape, y_test.shape"
   ]
  },
  {
   "cell_type": "code",
   "execution_count": 11,
   "id": "80c37db7",
   "metadata": {
    "execution": {
     "iopub.execute_input": "2023-04-08T20:37:24.950656Z",
     "iopub.status.busy": "2023-04-08T20:37:24.950227Z",
     "iopub.status.idle": "2023-04-08T20:37:24.959213Z",
     "shell.execute_reply": "2023-04-08T20:37:24.957903Z"
    },
    "papermill": {
     "duration": 0.021604,
     "end_time": "2023-04-08T20:37:24.962139",
     "exception": false,
     "start_time": "2023-04-08T20:37:24.940535",
     "status": "completed"
    },
    "tags": []
   },
   "outputs": [],
   "source": [
    "from tensorflow.keras.layers import TextVectorization\n",
    "from tensorflow.keras import Sequential\n",
    "from tensorflow.keras.layers import Embedding, LSTM, Dense, Dropout\n",
    "from tensorflow.keras.callbacks import EarlyStopping"
   ]
  },
  {
   "cell_type": "code",
   "execution_count": 12,
   "id": "309b016b",
   "metadata": {
    "execution": {
     "iopub.execute_input": "2023-04-08T20:37:24.979248Z",
     "iopub.status.busy": "2023-04-08T20:37:24.977999Z",
     "iopub.status.idle": "2023-04-08T20:37:25.993994Z",
     "shell.execute_reply": "2023-04-08T20:37:25.992868Z"
    },
    "papermill": {
     "duration": 1.027435,
     "end_time": "2023-04-08T20:37:25.996892",
     "exception": false,
     "start_time": "2023-04-08T20:37:24.969457",
     "status": "completed"
    },
    "tags": []
   },
   "outputs": [],
   "source": [
    "tokens = 1500\n",
    "encoder=TextVectorization(max_tokens=tokens, \n",
    "                          standardize='lower_and_strip_punctuation',\n",
    "                          split='whitespace',\n",
    "                          ngrams=2,\n",
    "                          output_mode='int')\n",
    "encoder.adapt(X_train)\n",
    "callback=EarlyStopping(monitor='val_loss', patience = 3, restore_best_weights=False, start_from_epoch=5)"
   ]
  },
  {
   "cell_type": "code",
   "execution_count": 13,
   "id": "aa2b7a4d",
   "metadata": {
    "execution": {
     "iopub.execute_input": "2023-04-08T20:37:26.013116Z",
     "iopub.status.busy": "2023-04-08T20:37:26.012350Z",
     "iopub.status.idle": "2023-04-08T20:37:26.028002Z",
     "shell.execute_reply": "2023-04-08T20:37:26.026571Z"
    },
    "papermill": {
     "duration": 0.026641,
     "end_time": "2023-04-08T20:37:26.030655",
     "exception": false,
     "start_time": "2023-04-08T20:37:26.004014",
     "status": "completed"
    },
    "tags": []
   },
   "outputs": [
    {
     "data": {
      "text/plain": [
       "['', '[UNK]', 'you', 'my', 'with', 'at', 'by', 'this', 'from', 'be']"
      ]
     },
     "execution_count": 13,
     "metadata": {},
     "output_type": "execute_result"
    }
   ],
   "source": [
    "encoder.get_vocabulary()[:10]"
   ]
  },
  {
   "cell_type": "code",
   "execution_count": 14,
   "id": "73763236",
   "metadata": {
    "execution": {
     "iopub.execute_input": "2023-04-08T20:37:26.047204Z",
     "iopub.status.busy": "2023-04-08T20:37:26.046273Z",
     "iopub.status.idle": "2023-04-08T20:37:27.532673Z",
     "shell.execute_reply": "2023-04-08T20:37:27.531268Z"
    },
    "papermill": {
     "duration": 1.504157,
     "end_time": "2023-04-08T20:37:27.541859",
     "exception": false,
     "start_time": "2023-04-08T20:37:26.037702",
     "status": "completed"
    },
    "tags": []
   },
   "outputs": [
    {
     "name": "stdout",
     "output_type": "stream",
     "text": [
      "Model: \"sequential\"\n",
      "_________________________________________________________________\n",
      " Layer (type)                Output Shape              Param #   \n",
      "=================================================================\n",
      " text_vectorization (TextVec  (None, None)             0         \n",
      " torization)                                                     \n",
      "                                                                 \n",
      " embedding (Embedding)       (None, None, 40)          60000     \n",
      "                                                                 \n",
      " lstm (LSTM)                 (None, 31)                8928      \n",
      "                                                                 \n",
      " dense (Dense)               (None, 25)                800       \n",
      "                                                                 \n",
      " dropout (Dropout)           (None, 25)                0         \n",
      "                                                                 \n",
      " dense_1 (Dense)             (None, 25)                650       \n",
      "                                                                 \n",
      " dropout_1 (Dropout)         (None, 25)                0         \n",
      "                                                                 \n",
      " dense_2 (Dense)             (None, 1)                 26        \n",
      "                                                                 \n",
      "=================================================================\n",
      "Total params: 70,404\n",
      "Trainable params: 70,404\n",
      "Non-trainable params: 0\n",
      "_________________________________________________________________\n"
     ]
    }
   ],
   "source": [
    "model = Sequential([\n",
    "    encoder,\n",
    "    Embedding(input_dim=len(encoder.get_vocabulary()), mask_zero=True, output_dim = 40),\n",
    "    LSTM(31, return_sequences=False),\n",
    "    Dense(25, activation='relu'),\n",
    "    Dropout(rate=0.2),\n",
    "    Dense(25, activation='relu'),\n",
    "    Dropout(rate=0.2),\n",
    "    Dense(1, activation='sigmoid')\n",
    "])\n",
    "model.compile(loss=tf.keras.losses.BinaryCrossentropy(),\n",
    "              optimizer=tf.keras.optimizers.Adam(1e-4),\n",
    "              metrics=['accuracy'])\n",
    "model.summary()"
   ]
  },
  {
   "cell_type": "code",
   "execution_count": 15,
   "id": "cfce82b0",
   "metadata": {
    "execution": {
     "iopub.execute_input": "2023-04-08T20:37:27.560757Z",
     "iopub.status.busy": "2023-04-08T20:37:27.560366Z",
     "iopub.status.idle": "2023-04-08T20:38:42.026868Z",
     "shell.execute_reply": "2023-04-08T20:38:42.025265Z"
    },
    "papermill": {
     "duration": 74.479636,
     "end_time": "2023-04-08T20:38:42.029870",
     "exception": false,
     "start_time": "2023-04-08T20:37:27.550234",
     "status": "completed"
    },
    "tags": []
   },
   "outputs": [
    {
     "name": "stdout",
     "output_type": "stream",
     "text": [
      "Epoch 1/15\n",
      "191/191 [==============================] - 13s 37ms/step - loss: 0.6907 - accuracy: 0.5563 - val_loss: 0.6876 - val_accuracy: 0.5706\n",
      "Epoch 2/15\n",
      "191/191 [==============================] - 6s 29ms/step - loss: 0.6851 - accuracy: 0.5704 - val_loss: 0.6826 - val_accuracy: 0.5706\n",
      "Epoch 3/15\n",
      "191/191 [==============================] - 6s 29ms/step - loss: 0.6795 - accuracy: 0.5703 - val_loss: 0.6697 - val_accuracy: 0.5706\n",
      "Epoch 4/15\n",
      "191/191 [==============================] - 6s 29ms/step - loss: 0.6057 - accuracy: 0.7099 - val_loss: 0.5623 - val_accuracy: 0.7656\n",
      "Epoch 5/15\n",
      "191/191 [==============================] - 6s 30ms/step - loss: 0.5054 - accuracy: 0.8064 - val_loss: 0.5322 - val_accuracy: 0.7761\n",
      "Epoch 6/15\n",
      "191/191 [==============================] - 5s 29ms/step - loss: 0.4740 - accuracy: 0.8240 - val_loss: 0.5284 - val_accuracy: 0.7774\n",
      "Epoch 7/15\n",
      "191/191 [==============================] - 6s 29ms/step - loss: 0.4496 - accuracy: 0.8376 - val_loss: 0.5300 - val_accuracy: 0.7814\n",
      "Epoch 8/15\n",
      "191/191 [==============================] - 6s 30ms/step - loss: 0.4359 - accuracy: 0.8455 - val_loss: 0.5362 - val_accuracy: 0.7761\n",
      "Epoch 9/15\n",
      "191/191 [==============================] - 6s 29ms/step - loss: 0.4224 - accuracy: 0.8494 - val_loss: 0.5249 - val_accuracy: 0.7800\n",
      "Epoch 10/15\n",
      "191/191 [==============================] - 6s 30ms/step - loss: 0.4099 - accuracy: 0.8563 - val_loss: 0.5295 - val_accuracy: 0.7787\n",
      "Epoch 11/15\n",
      "191/191 [==============================] - 5s 29ms/step - loss: 0.3997 - accuracy: 0.8614 - val_loss: 0.5347 - val_accuracy: 0.7846\n",
      "Epoch 12/15\n",
      "191/191 [==============================] - 6s 30ms/step - loss: 0.3878 - accuracy: 0.8655 - val_loss: 0.5394 - val_accuracy: 0.7820\n"
     ]
    }
   ],
   "source": [
    "history = model.fit(X_train, \n",
    "          y_train,\n",
    "          batch_size=32,\n",
    "          validation_data = (X_test, y_test),\n",
    "          epochs=15,\n",
    "          callbacks=[callback])"
   ]
  },
  {
   "cell_type": "code",
   "execution_count": 16,
   "id": "27143f9f",
   "metadata": {
    "execution": {
     "iopub.execute_input": "2023-04-08T20:38:42.185199Z",
     "iopub.status.busy": "2023-04-08T20:38:42.183710Z",
     "iopub.status.idle": "2023-04-08T20:38:42.394416Z",
     "shell.execute_reply": "2023-04-08T20:38:42.393137Z"
    },
    "papermill": {
     "duration": 0.291069,
     "end_time": "2023-04-08T20:38:42.396993",
     "exception": false,
     "start_time": "2023-04-08T20:38:42.105924",
     "status": "completed"
    },
    "tags": []
   },
   "outputs": [
    {
     "data": {
      "image/png": "[encoded data removed]",
      "text/plain": [
       "<Figure size 640x480 with 1 Axes>"
      ]
     },
     "metadata": {},
     "output_type": "display_data"
    }
   ],
   "source": [
    "n = len(history.history['accuracy'])\n",
    "plt.plot(range(n), history.history['accuracy'])\n",
    "plt.plot(range(n), history.history['val_accuracy'])\n",
    "plt.show()"
   ]
  },
  {
   "cell_type": "code",
   "execution_count": 17,
   "id": "2cfac58f",
   "metadata": {
    "execution": {
     "iopub.execute_input": "2023-04-08T20:38:42.552908Z",
     "iopub.status.busy": "2023-04-08T20:38:42.551672Z",
     "iopub.status.idle": "2023-04-08T20:38:42.556690Z",
     "shell.execute_reply": "2023-04-08T20:38:42.555753Z"
    },
    "papermill": {
     "duration": 0.08699,
     "end_time": "2023-04-08T20:38:42.558807",
     "exception": false,
     "start_time": "2023-04-08T20:38:42.471817",
     "status": "completed"
    },
    "tags": []
   },
   "outputs": [],
   "source": [
    "best_model = history.model"
   ]
  },
  {
   "cell_type": "code",
   "execution_count": 18,
   "id": "570fd1b5",
   "metadata": {
    "execution": {
     "iopub.execute_input": "2023-04-08T20:38:42.739396Z",
     "iopub.status.busy": "2023-04-08T20:38:42.738332Z",
     "iopub.status.idle": "2023-04-08T20:38:42.805435Z",
     "shell.execute_reply": "2023-04-08T20:38:42.804303Z"
    },
    "papermill": {
     "duration": 0.159325,
     "end_time": "2023-04-08T20:38:42.808355",
     "exception": false,
     "start_time": "2023-04-08T20:38:42.649030",
     "status": "completed"
    },
    "tags": []
   },
   "outputs": [
    {
     "data": {
      "text/plain": [
       "((3263, 4), (3263,))"
      ]
     },
     "execution_count": 18,
     "metadata": {},
     "output_type": "execute_result"
    }
   ],
   "source": [
    "test_df = pd.read_csv('../input/nlp-getting-started/test.csv')\n",
    "test_df.text = df.text.str.lower()\n",
    "test_df.text = test_df.text.apply(lambda x: \" \".join(word for word in x.split(\" \") if word not in stop_words))\n",
    "test = test_df.text.values.flatten()\n",
    "test_df.shape, test.shape"
   ]
  },
  {
   "cell_type": "code",
   "execution_count": 19,
   "id": "5ba5398c",
   "metadata": {
    "execution": {
     "iopub.execute_input": "2023-04-08T20:38:42.963917Z",
     "iopub.status.busy": "2023-04-08T20:38:42.963500Z",
     "iopub.status.idle": "2023-04-08T20:38:45.358987Z",
     "shell.execute_reply": "2023-04-08T20:38:45.357890Z"
    },
    "papermill": {
     "duration": 2.476623,
     "end_time": "2023-04-08T20:38:45.362026",
     "exception": false,
     "start_time": "2023-04-08T20:38:42.885403",
     "status": "completed"
    },
    "tags": []
   },
   "outputs": [
    {
     "name": "stdout",
     "output_type": "stream",
     "text": [
      "102/102 [==============================] - 2s 8ms/step\n"
     ]
    }
   ],
   "source": [
    "yhat = best_model.predict(test)"
   ]
  },
  {
   "cell_type": "code",
   "execution_count": 20,
   "id": "60755d48",
   "metadata": {
    "execution": {
     "iopub.execute_input": "2023-04-08T20:38:45.519319Z",
     "iopub.status.busy": "2023-04-08T20:38:45.518824Z",
     "iopub.status.idle": "2023-04-08T20:38:45.541804Z",
     "shell.execute_reply": "2023-04-08T20:38:45.540593Z"
    },
    "papermill": {
     "duration": 0.10542,
     "end_time": "2023-04-08T20:38:45.544558",
     "exception": false,
     "start_time": "2023-04-08T20:38:45.439138",
     "status": "completed"
    },
    "tags": []
   },
   "outputs": [],
   "source": [
    "submission = test_df[['id']].copy()\n",
    "submission['target'] = np.round(yhat,0)\n",
    "submission.target = submission.target.astype(int)\n",
    "submission.to_csv('submission.csv', index=False)"
   ]
  },
  {
   "cell_type": "code",
   "execution_count": 21,
   "id": "66961c6d",
   "metadata": {
    "execution": {
     "iopub.execute_input": "2023-04-08T20:38:45.700958Z",
     "iopub.status.busy": "2023-04-08T20:38:45.700490Z",
     "iopub.status.idle": "2023-04-08T20:38:45.712892Z",
     "shell.execute_reply": "2023-04-08T20:38:45.711972Z"
    },
    "papermill": {
     "duration": 0.093677,
     "end_time": "2023-04-08T20:38:45.715193",
     "exception": false,
     "start_time": "2023-04-08T20:38:45.621516",
     "status": "completed"
    },
    "tags": []
   },
   "outputs": [
    {
     "data": {
      "text/html": [
       "<div>\n",
       "<style scoped>\n",
       "    .dataframe tbody tr th:only-of-type {\n",
       "        vertical-align: middle;\n",
       "    }\n",
       "\n",
       "    .dataframe tbody tr th {\n",
       "        vertical-align: top;\n",
       "    }\n",
       "\n",
       "    .dataframe thead th {\n",
       "        text-align: right;\n",
       "    }\n",
       "</style>\n",
       "<table border=\"1\" class=\"dataframe\">\n",
       "  <thead>\n",
       "    <tr style=\"text-align: right;\">\n",
       "      <th></th>\n",
       "      <th>id</th>\n",
       "      <th>target</th>\n",
       "    </tr>\n",
       "  </thead>\n",
       "  <tbody>\n",
       "    <tr>\n",
       "      <th>0</th>\n",
       "      <td>0</td>\n",
       "      <td>1</td>\n",
       "    </tr>\n",
       "    <tr>\n",
       "      <th>1</th>\n",
       "      <td>2</td>\n",
       "      <td>1</td>\n",
       "    </tr>\n",
       "    <tr>\n",
       "      <th>2</th>\n",
       "      <td>3</td>\n",
       "      <td>1</td>\n",
       "    </tr>\n",
       "    <tr>\n",
       "      <th>3</th>\n",
       "      <td>9</td>\n",
       "      <td>1</td>\n",
       "    </tr>\n",
       "    <tr>\n",
       "      <th>4</th>\n",
       "      <td>11</td>\n",
       "      <td>0</td>\n",
       "    </tr>\n",
       "  </tbody>\n",
       "</table>\n",
       "</div>"
      ],
      "text/plain": [
       "   id  target\n",
       "0   0       1\n",
       "1   2       1\n",
       "2   3       1\n",
       "3   9       1\n",
       "4  11       0"
      ]
     },
     "execution_count": 21,
     "metadata": {},
     "output_type": "execute_result"
    }
   ],
   "source": [
    "pd.read_csv('submission.csv').head()"
   ]
  },
  {
   "cell_type": "code",
   "execution_count": null,
   "id": "8401bab5",
   "metadata": {
    "papermill": {
     "duration": 0.080655,
     "end_time": "2023-04-08T20:38:45.873615",
     "exception": false,
     "start_time": "2023-04-08T20:38:45.792960",
     "status": "completed"
    },
    "tags": []
   },
   "outputs": [],
   "source": []
  }
 ],
 "metadata": {
  "kernelspec": {
   "display_name": "Python 3",
   "language": "python",
   "name": "python3"
  },
  "language_info": {
   "codemirror_mode": {
    "name": "ipython",
    "version": 3
   },
   "file_extension": ".py",
   "mimetype": "text/x-python",
   "name": "python",
   "nbconvert_exporter": "python",
   "pygments_lexer": "ipython3",
   "version": "3.7.12"
  },
  "papermill": {
   "default_parameters": {},
   "duration": 104.90229,
   "end_time": "2023-04-08T20:38:48.701689",
   "environment_variables": {},
   "exception": null,
   "input_path": "__notebook__.ipynb",
   "output_path": "__notebook__.ipynb",
   "parameters": {},
   "start_time": "2023-04-08T20:37:03.799399",
   "version": "2.4.0"
  }
 },
 "nbformat": 4,
 "nbformat_minor": 5
}
