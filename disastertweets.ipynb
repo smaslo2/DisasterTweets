{
 "cells": [
  {
   "cell_type": "markdown",
   "id": "1a22694e",
   "metadata": {
    "papermill": {
     "duration": 0.009393,
     "end_time": "2023-04-09T13:40:07.148250",
     "exception": false,
     "start_time": "2023-04-09T13:40:07.138857",
     "status": "completed"
    },
    "tags": []
   },
   "source": [
    "Tweets from disasters were analyzed using natural language processing a LSTM model.  The tweet data initially had 7613 tweets.  Duplicates were removed leading to 7503 unique tweets.  Cleaning converted the tweets to lowercase, removed a list of stop words, and stripped punctuation.  The model used tensorflow's text vectorizer, a LSTM layer, and 2 hidden dense layers.  Final training accuracy was 87% and test accuracy of 79%."
   ]
  },
  {
   "cell_type": "code",
   "execution_count": 1,
   "id": "92b151c0",
   "metadata": {
    "execution": {
     "iopub.execute_input": "2023-04-09T13:40:07.166752Z",
     "iopub.status.busy": "2023-04-09T13:40:07.166261Z",
     "iopub.status.idle": "2023-04-09T13:40:17.493214Z",
     "shell.execute_reply": "2023-04-09T13:40:17.491688Z"
    },
    "papermill": {
     "duration": 10.340106,
     "end_time": "2023-04-09T13:40:17.496528",
     "exception": false,
     "start_time": "2023-04-09T13:40:07.156422",
     "status": "completed"
    },
    "tags": []
   },
   "outputs": [],
   "source": [
    "import tensorflow as tf\n",
    "import matplotlib.pyplot as plt\n",
    "import numpy as np\n",
    "import pandas as pd\n",
    "import os"
   ]
  },
  {
   "cell_type": "code",
   "execution_count": 2,
   "id": "24c12db6",
   "metadata": {
    "execution": {
     "iopub.execute_input": "2023-04-09T13:40:17.515567Z",
     "iopub.status.busy": "2023-04-09T13:40:17.514534Z",
     "iopub.status.idle": "2023-04-09T13:40:17.571767Z",
     "shell.execute_reply": "2023-04-09T13:40:17.570596Z"
    },
    "papermill": {
     "duration": 0.070474,
     "end_time": "2023-04-09T13:40:17.575129",
     "exception": false,
     "start_time": "2023-04-09T13:40:17.504655",
     "status": "completed"
    },
    "tags": []
   },
   "outputs": [],
   "source": [
    "df = pd.read_csv('../input/nlp-getting-started/train.csv')"
   ]
  },
  {
   "cell_type": "code",
   "execution_count": 3,
   "id": "41b170e2",
   "metadata": {
    "execution": {
     "iopub.execute_input": "2023-04-09T13:40:17.594843Z",
     "iopub.status.busy": "2023-04-09T13:40:17.594372Z",
     "iopub.status.idle": "2023-04-09T13:40:17.625004Z",
     "shell.execute_reply": "2023-04-09T13:40:17.624055Z"
    },
    "papermill": {
     "duration": 0.043538,
     "end_time": "2023-04-09T13:40:17.627785",
     "exception": false,
     "start_time": "2023-04-09T13:40:17.584247",
     "status": "completed"
    },
    "tags": []
   },
   "outputs": [
    {
     "data": {
      "text/html": [
       "<div>\n",
       "<style scoped>\n",
       "    .dataframe tbody tr th:only-of-type {\n",
       "        vertical-align: middle;\n",
       "    }\n",
       "\n",
       "    .dataframe tbody tr th {\n",
       "        vertical-align: top;\n",
       "    }\n",
       "\n",
       "    .dataframe thead th {\n",
       "        text-align: right;\n",
       "    }\n",
       "</style>\n",
       "<table border=\"1\" class=\"dataframe\">\n",
       "  <thead>\n",
       "    <tr style=\"text-align: right;\">\n",
       "      <th></th>\n",
       "      <th>id</th>\n",
       "      <th>keyword</th>\n",
       "      <th>location</th>\n",
       "      <th>text</th>\n",
       "      <th>target</th>\n",
       "    </tr>\n",
       "  </thead>\n",
       "  <tbody>\n",
       "    <tr>\n",
       "      <th>0</th>\n",
       "      <td>1</td>\n",
       "      <td>NaN</td>\n",
       "      <td>NaN</td>\n",
       "      <td>Our Deeds are the Reason of this #earthquake M...</td>\n",
       "      <td>1</td>\n",
       "    </tr>\n",
       "    <tr>\n",
       "      <th>1</th>\n",
       "      <td>4</td>\n",
       "      <td>NaN</td>\n",
       "      <td>NaN</td>\n",
       "      <td>Forest fire near La Ronge Sask. Canada</td>\n",
       "      <td>1</td>\n",
       "    </tr>\n",
       "    <tr>\n",
       "      <th>2</th>\n",
       "      <td>5</td>\n",
       "      <td>NaN</td>\n",
       "      <td>NaN</td>\n",
       "      <td>All residents asked to 'shelter in place' are ...</td>\n",
       "      <td>1</td>\n",
       "    </tr>\n",
       "    <tr>\n",
       "      <th>3</th>\n",
       "      <td>6</td>\n",
       "      <td>NaN</td>\n",
       "      <td>NaN</td>\n",
       "      <td>13,000 people receive #wildfires evacuation or...</td>\n",
       "      <td>1</td>\n",
       "    </tr>\n",
       "    <tr>\n",
       "      <th>4</th>\n",
       "      <td>7</td>\n",
       "      <td>NaN</td>\n",
       "      <td>NaN</td>\n",
       "      <td>Just got sent this photo from Ruby #Alaska as ...</td>\n",
       "      <td>1</td>\n",
       "    </tr>\n",
       "  </tbody>\n",
       "</table>\n",
       "</div>"
      ],
      "text/plain": [
       "   id keyword location                                               text  \\\n",
       "0   1     NaN      NaN  Our Deeds are the Reason of this #earthquake M...   \n",
       "1   4     NaN      NaN             Forest fire near La Ronge Sask. Canada   \n",
       "2   5     NaN      NaN  All residents asked to 'shelter in place' are ...   \n",
       "3   6     NaN      NaN  13,000 people receive #wildfires evacuation or...   \n",
       "4   7     NaN      NaN  Just got sent this photo from Ruby #Alaska as ...   \n",
       "\n",
       "   target  \n",
       "0       1  \n",
       "1       1  \n",
       "2       1  \n",
       "3       1  \n",
       "4       1  "
      ]
     },
     "execution_count": 3,
     "metadata": {},
     "output_type": "execute_result"
    }
   ],
   "source": [
    "df.head()"
   ]
  },
  {
   "cell_type": "markdown",
   "id": "a7ca312e",
   "metadata": {
    "papermill": {
     "duration": 0.008067,
     "end_time": "2023-04-09T13:40:17.644322",
     "exception": false,
     "start_time": "2023-04-09T13:40:17.636255",
     "status": "completed"
    },
    "tags": []
   },
   "source": [
    "The dataset contains 7613 tweets.  The id, keyword, and location columns will not be used and missing values won't matter."
   ]
  },
  {
   "cell_type": "code",
   "execution_count": 4,
   "id": "e2983037",
   "metadata": {
    "execution": {
     "iopub.execute_input": "2023-04-09T13:40:17.663977Z",
     "iopub.status.busy": "2023-04-09T13:40:17.663080Z",
     "iopub.status.idle": "2023-04-09T13:40:17.694449Z",
     "shell.execute_reply": "2023-04-09T13:40:17.692347Z"
    },
    "papermill": {
     "duration": 0.044792,
     "end_time": "2023-04-09T13:40:17.697700",
     "exception": false,
     "start_time": "2023-04-09T13:40:17.652908",
     "status": "completed"
    },
    "tags": []
   },
   "outputs": [
    {
     "name": "stdout",
     "output_type": "stream",
     "text": [
      "<class 'pandas.core.frame.DataFrame'>\n",
      "RangeIndex: 7613 entries, 0 to 7612\n",
      "Data columns (total 5 columns):\n",
      " #   Column    Non-Null Count  Dtype \n",
      "---  ------    --------------  ----- \n",
      " 0   id        7613 non-null   int64 \n",
      " 1   keyword   7552 non-null   object\n",
      " 2   location  5080 non-null   object\n",
      " 3   text      7613 non-null   object\n",
      " 4   target    7613 non-null   int64 \n",
      "dtypes: int64(2), object(3)\n",
      "memory usage: 297.5+ KB\n"
     ]
    }
   ],
   "source": [
    "df.info()"
   ]
  },
  {
   "cell_type": "markdown",
   "id": "6ff85dd6",
   "metadata": {
    "papermill": {
     "duration": 0.008265,
     "end_time": "2023-04-09T13:40:17.714938",
     "exception": false,
     "start_time": "2023-04-09T13:40:17.706673",
     "status": "completed"
    },
    "tags": []
   },
   "source": [
    "There are 111 duplicate tweets."
   ]
  },
  {
   "cell_type": "code",
   "execution_count": 5,
   "id": "ac555e23",
   "metadata": {
    "execution": {
     "iopub.execute_input": "2023-04-09T13:40:17.736745Z",
     "iopub.status.busy": "2023-04-09T13:40:17.735438Z",
     "iopub.status.idle": "2023-04-09T13:40:17.748568Z",
     "shell.execute_reply": "2023-04-09T13:40:17.747363Z"
    },
    "papermill": {
     "duration": 0.025993,
     "end_time": "2023-04-09T13:40:17.751225",
     "exception": false,
     "start_time": "2023-04-09T13:40:17.725232",
     "status": "completed"
    },
    "tags": []
   },
   "outputs": [
    {
     "data": {
      "text/plain": [
       "(7503,)"
      ]
     },
     "execution_count": 5,
     "metadata": {},
     "output_type": "execute_result"
    }
   ],
   "source": [
    "df.text.drop_duplicates().shape"
   ]
  },
  {
   "cell_type": "code",
   "execution_count": 6,
   "id": "a876cb48",
   "metadata": {
    "execution": {
     "iopub.execute_input": "2023-04-09T13:40:17.772050Z",
     "iopub.status.busy": "2023-04-09T13:40:17.771051Z",
     "iopub.status.idle": "2023-04-09T13:40:17.786845Z",
     "shell.execute_reply": "2023-04-09T13:40:17.785426Z"
    },
    "papermill": {
     "duration": 0.029538,
     "end_time": "2023-04-09T13:40:17.789541",
     "exception": false,
     "start_time": "2023-04-09T13:40:17.760003",
     "status": "completed"
    },
    "tags": []
   },
   "outputs": [
    {
     "data": {
      "text/plain": [
       "(7503, 5)"
      ]
     },
     "execution_count": 6,
     "metadata": {},
     "output_type": "execute_result"
    }
   ],
   "source": [
    "df = df.drop_duplicates(subset='text')\n",
    "df.shape"
   ]
  },
  {
   "cell_type": "markdown",
   "id": "cad41322",
   "metadata": {
    "papermill": {
     "duration": 0.008471,
     "end_time": "2023-04-09T13:40:17.807529",
     "exception": false,
     "start_time": "2023-04-09T13:40:17.799058",
     "status": "completed"
    },
    "tags": []
   },
   "source": [
    "The dataset is reasonably balanced with 3198 disaster tweets and 4305 non-disaster tweets."
   ]
  },
  {
   "cell_type": "code",
   "execution_count": 7,
   "id": "09e4dc54",
   "metadata": {
    "execution": {
     "iopub.execute_input": "2023-04-09T13:40:17.827258Z",
     "iopub.status.busy": "2023-04-09T13:40:17.826809Z",
     "iopub.status.idle": "2023-04-09T13:40:17.837572Z",
     "shell.execute_reply": "2023-04-09T13:40:17.835770Z"
    },
    "papermill": {
     "duration": 0.024999,
     "end_time": "2023-04-09T13:40:17.841338",
     "exception": false,
     "start_time": "2023-04-09T13:40:17.816339",
     "status": "completed"
    },
    "tags": []
   },
   "outputs": [
    {
     "data": {
      "text/plain": [
       "0    4305\n",
       "1    3198\n",
       "Name: target, dtype: int64"
      ]
     },
     "execution_count": 7,
     "metadata": {},
     "output_type": "execute_result"
    }
   ],
   "source": [
    "df.target.value_counts()"
   ]
  },
  {
   "cell_type": "markdown",
   "id": "efc86bd1",
   "metadata": {
    "papermill": {
     "duration": 0.009921,
     "end_time": "2023-04-09T13:40:17.863460",
     "exception": false,
     "start_time": "2023-04-09T13:40:17.853539",
     "status": "completed"
    },
    "tags": []
   },
   "source": [
    "The tweets contain up to 31 words with an average around 15."
   ]
  },
  {
   "cell_type": "code",
   "execution_count": 8,
   "id": "588f0d9d",
   "metadata": {
    "execution": {
     "iopub.execute_input": "2023-04-09T13:40:17.893146Z",
     "iopub.status.busy": "2023-04-09T13:40:17.892652Z",
     "iopub.status.idle": "2023-04-09T13:40:18.331653Z",
     "shell.execute_reply": "2023-04-09T13:40:18.330084Z"
    },
    "papermill": {
     "duration": 0.457926,
     "end_time": "2023-04-09T13:40:18.334433",
     "exception": false,
     "start_time": "2023-04-09T13:40:17.876507",
     "status": "completed"
    },
    "tags": []
   },
   "outputs": [
    {
     "data": {
      "text/plain": [
       "31"
      ]
     },
     "execution_count": 8,
     "metadata": {},
     "output_type": "execute_result"
    },
    {
     "data": {
      "image/png": "[encoded data removed]",
      "text/plain": [
       "<Figure size 640x480 with 1 Axes>"
      ]
     },
     "metadata": {},
     "output_type": "display_data"
    }
   ],
   "source": [
    "x = df.text.apply(str.split).apply(len)\n",
    "x.hist()\n",
    "plt.show\n",
    "x.max()"
   ]
  },
  {
   "cell_type": "markdown",
   "id": "3141ce21",
   "metadata": {
    "papermill": {
     "duration": 0.009113,
     "end_time": "2023-04-09T13:40:18.353143",
     "exception": false,
     "start_time": "2023-04-09T13:40:18.344030",
     "status": "completed"
    },
    "tags": []
   },
   "source": [
    "Data is cleaned by converting to lower case and then removing a short list of stop words."
   ]
  },
  {
   "cell_type": "code",
   "execution_count": 9,
   "id": "c1003188",
   "metadata": {
    "execution": {
     "iopub.execute_input": "2023-04-09T13:40:18.374200Z",
     "iopub.status.busy": "2023-04-09T13:40:18.373662Z",
     "iopub.status.idle": "2023-04-09T13:40:18.447405Z",
     "shell.execute_reply": "2023-04-09T13:40:18.446267Z"
    },
    "papermill": {
     "duration": 0.088076,
     "end_time": "2023-04-09T13:40:18.450509",
     "exception": false,
     "start_time": "2023-04-09T13:40:18.362433",
     "status": "completed"
    },
    "tags": []
   },
   "outputs": [],
   "source": [
    "stop_words = [ 'stop', 'the', 'to', 'and', 'a', 'in', 'it', 'is', 'i', 'that', 'had', 'on', 'for', 'were', 'was', 'of', 'as', 'are'] # mostly from NLTK\n",
    "df.text = df.text.str.lower()\n",
    "df.text = df.text.apply(lambda x: \" \".join(word for word in x.split(\" \") if word not in stop_words))"
   ]
  },
  {
   "cell_type": "code",
   "execution_count": 10,
   "id": "c588eafc",
   "metadata": {
    "execution": {
     "iopub.execute_input": "2023-04-09T13:40:18.473122Z",
     "iopub.status.busy": "2023-04-09T13:40:18.471663Z",
     "iopub.status.idle": "2023-04-09T13:40:18.482229Z",
     "shell.execute_reply": "2023-04-09T13:40:18.480738Z"
    },
    "papermill": {
     "duration": 0.025164,
     "end_time": "2023-04-09T13:40:18.485170",
     "exception": false,
     "start_time": "2023-04-09T13:40:18.460006",
     "status": "completed"
    },
    "tags": []
   },
   "outputs": [
    {
     "data": {
      "text/plain": [
       "0    our deeds reason this #earthquake may allah fo...\n",
       "1               forest fire near la ronge sask. canada\n",
       "2    all residents asked 'shelter place' being noti...\n",
       "3    13,000 people receive #wildfires evacuation or...\n",
       "4    just got sent this photo from ruby #alaska smo...\n",
       "Name: text, dtype: object"
      ]
     },
     "execution_count": 10,
     "metadata": {},
     "output_type": "execute_result"
    }
   ],
   "source": [
    "df.text.head()"
   ]
  },
  {
   "cell_type": "markdown",
   "id": "aa6918f2",
   "metadata": {
    "papermill": {
     "duration": 0.009055,
     "end_time": "2023-04-09T13:40:18.503938",
     "exception": false,
     "start_time": "2023-04-09T13:40:18.494883",
     "status": "completed"
    },
    "tags": []
   },
   "source": [
    "Split into train and test sets using the pandas sample method with 20% hold out for test."
   ]
  },
  {
   "cell_type": "code",
   "execution_count": 11,
   "id": "75ce446b",
   "metadata": {
    "execution": {
     "iopub.execute_input": "2023-04-09T13:40:18.525462Z",
     "iopub.status.busy": "2023-04-09T13:40:18.524922Z",
     "iopub.status.idle": "2023-04-09T13:40:18.543184Z",
     "shell.execute_reply": "2023-04-09T13:40:18.541759Z"
    },
    "papermill": {
     "duration": 0.032456,
     "end_time": "2023-04-09T13:40:18.545738",
     "exception": false,
     "start_time": "2023-04-09T13:40:18.513282",
     "status": "completed"
    },
    "tags": []
   },
   "outputs": [
    {
     "data": {
      "text/plain": [
       "((6002, 5), (1501, 5))"
      ]
     },
     "execution_count": 11,
     "metadata": {},
     "output_type": "execute_result"
    }
   ],
   "source": [
    "train = df.sample(frac=0.8, replace=False, random_state=42)\n",
    "test = df.loc[df.index.drop(train.index)]\n",
    "train.shape, test.shape"
   ]
  },
  {
   "cell_type": "markdown",
   "id": "da135be4",
   "metadata": {
    "papermill": {
     "duration": 0.009249,
     "end_time": "2023-04-09T13:40:18.565039",
     "exception": false,
     "start_time": "2023-04-09T13:40:18.555790",
     "status": "completed"
    },
    "tags": []
   },
   "source": [
    "Flatten everything to avoid shape errors in the sequential model."
   ]
  },
  {
   "cell_type": "code",
   "execution_count": 12,
   "id": "e20e73a3",
   "metadata": {
    "execution": {
     "iopub.execute_input": "2023-04-09T13:40:18.587459Z",
     "iopub.status.busy": "2023-04-09T13:40:18.586052Z",
     "iopub.status.idle": "2023-04-09T13:40:18.597979Z",
     "shell.execute_reply": "2023-04-09T13:40:18.596845Z"
    },
    "papermill": {
     "duration": 0.025696,
     "end_time": "2023-04-09T13:40:18.600389",
     "exception": false,
     "start_time": "2023-04-09T13:40:18.574693",
     "status": "completed"
    },
    "tags": []
   },
   "outputs": [
    {
     "data": {
      "text/plain": [
       "((6002,), (6002,), (1501,), (1501,))"
      ]
     },
     "execution_count": 12,
     "metadata": {},
     "output_type": "execute_result"
    }
   ],
   "source": [
    "X_train = train.text.values.flatten()\n",
    "y_train = train.target.values.flatten()\n",
    "X_test = test.text.values.flatten()\n",
    "y_test = test.target.values.flatten()\n",
    "X_train.shape, y_train.shape, X_test.shape, y_test.shape"
   ]
  },
  {
   "cell_type": "code",
   "execution_count": 13,
   "id": "7219fdf8",
   "metadata": {
    "execution": {
     "iopub.execute_input": "2023-04-09T13:40:18.622564Z",
     "iopub.status.busy": "2023-04-09T13:40:18.621322Z",
     "iopub.status.idle": "2023-04-09T13:40:18.630912Z",
     "shell.execute_reply": "2023-04-09T13:40:18.629469Z"
    },
    "papermill": {
     "duration": 0.023472,
     "end_time": "2023-04-09T13:40:18.633509",
     "exception": false,
     "start_time": "2023-04-09T13:40:18.610037",
     "status": "completed"
    },
    "tags": []
   },
   "outputs": [],
   "source": [
    "from tensorflow.keras.layers import TextVectorization\n",
    "from tensorflow.keras import Sequential\n",
    "from tensorflow.keras.layers import Embedding, LSTM, Dense, Dropout, Flatten\n",
    "from tensorflow.keras.callbacks import EarlyStopping"
   ]
  },
  {
   "cell_type": "markdown",
   "id": "5297fa85",
   "metadata": {
    "papermill": {
     "duration": 0.00924,
     "end_time": "2023-04-09T13:40:18.652380",
     "exception": false,
     "start_time": "2023-04-09T13:40:18.643140",
     "status": "completed"
    },
    "tags": []
   },
   "source": [
    "Text is vectorized using the tensorflow TextVectorization which converts to lower and strips punctuation.  Experimented with output modes and ngrams.  Since it is a LSTM model output mode needs to be int.  Adding 2-grams gave no improvement."
   ]
  },
  {
   "cell_type": "code",
   "execution_count": 14,
   "id": "0729c558",
   "metadata": {
    "execution": {
     "iopub.execute_input": "2023-04-09T13:40:18.673766Z",
     "iopub.status.busy": "2023-04-09T13:40:18.673249Z",
     "iopub.status.idle": "2023-04-09T13:40:19.800346Z",
     "shell.execute_reply": "2023-04-09T13:40:19.798824Z"
    },
    "papermill": {
     "duration": 1.141878,
     "end_time": "2023-04-09T13:40:19.803745",
     "exception": false,
     "start_time": "2023-04-09T13:40:18.661867",
     "status": "completed"
    },
    "tags": []
   },
   "outputs": [],
   "source": [
    "tokens = 1500\n",
    "encoder=TextVectorization(max_tokens=tokens, \n",
    "                          standardize='lower_and_strip_punctuation',\n",
    "                          split='whitespace',\n",
    "                          ngrams=None,\n",
    "                          output_mode='int')\n",
    "encoder.adapt(X_train)\n",
    "callback=EarlyStopping(monitor='val_accuracy', patience = 3, restore_best_weights=False, start_from_epoch=5)"
   ]
  },
  {
   "cell_type": "code",
   "execution_count": 15,
   "id": "4ebeb38e",
   "metadata": {
    "execution": {
     "iopub.execute_input": "2023-04-09T13:40:19.825535Z",
     "iopub.status.busy": "2023-04-09T13:40:19.825121Z",
     "iopub.status.idle": "2023-04-09T13:40:19.841328Z",
     "shell.execute_reply": "2023-04-09T13:40:19.839832Z"
    },
    "papermill": {
     "duration": 0.030765,
     "end_time": "2023-04-09T13:40:19.844434",
     "exception": false,
     "start_time": "2023-04-09T13:40:19.813669",
     "status": "completed"
    },
    "tags": []
   },
   "outputs": [
    {
     "data": {
      "text/plain": [
       "['', '[UNK]', 'you', 'my', 'at', 'with', 'by', 'this', 'be', 'from']"
      ]
     },
     "execution_count": 15,
     "metadata": {},
     "output_type": "execute_result"
    }
   ],
   "source": [
    "encoder.get_vocabulary()[:10]"
   ]
  },
  {
   "cell_type": "markdown",
   "id": "57365ee8",
   "metadata": {
    "papermill": {
     "duration": 0.009284,
     "end_time": "2023-04-09T13:40:19.864124",
     "exception": false,
     "start_time": "2023-04-09T13:40:19.854840",
     "status": "completed"
    },
    "tags": []
   },
   "source": [
    "Experimentation with model architectures gave minimal gains."
   ]
  },
  {
   "cell_type": "code",
   "execution_count": 16,
   "id": "855eb024",
   "metadata": {
    "execution": {
     "iopub.execute_input": "2023-04-09T13:40:19.885996Z",
     "iopub.status.busy": "2023-04-09T13:40:19.885511Z",
     "iopub.status.idle": "2023-04-09T13:40:21.510770Z",
     "shell.execute_reply": "2023-04-09T13:40:21.508911Z"
    },
    "papermill": {
     "duration": 1.642474,
     "end_time": "2023-04-09T13:40:21.515999",
     "exception": false,
     "start_time": "2023-04-09T13:40:19.873525",
     "status": "completed"
    },
    "tags": []
   },
   "outputs": [
    {
     "name": "stdout",
     "output_type": "stream",
     "text": [
      "Model: \"sequential\"\n",
      "_________________________________________________________________\n",
      " Layer (type)                Output Shape              Param #   \n",
      "=================================================================\n",
      " text_vectorization (TextVec  (None, None)             0         \n",
      " torization)                                                     \n",
      "                                                                 \n",
      " embedding (Embedding)       (None, None, 50)          75000     \n",
      "                                                                 \n",
      " lstm (LSTM)                 (None, 31)                10168     \n",
      "                                                                 \n",
      " dense (Dense)               (None, 25)                800       \n",
      "                                                                 \n",
      " dense_1 (Dense)             (None, 25)                650       \n",
      "                                                                 \n",
      " dense_2 (Dense)             (None, 1)                 26        \n",
      "                                                                 \n",
      "=================================================================\n",
      "Total params: 86,644\n",
      "Trainable params: 86,644\n",
      "Non-trainable params: 0\n",
      "_________________________________________________________________\n"
     ]
    }
   ],
   "source": [
    "model = Sequential([\n",
    "    encoder,\n",
    "    Embedding(input_dim=len(encoder.get_vocabulary()), mask_zero=True, output_dim = 50),\n",
    "    LSTM(31, return_sequences=False),\n",
    "    Dense(25, activation='relu'),\n",
    "    Dense(25, activation='relu'),\n",
    "    Dense(1, activation='sigmoid')\n",
    "])\n",
    "model.compile(loss=tf.keras.losses.BinaryCrossentropy(),\n",
    "              optimizer=tf.keras.optimizers.Adam(1e-4),\n",
    "              metrics=['accuracy'])\n",
    "model.summary()"
   ]
  },
  {
   "cell_type": "code",
   "execution_count": 17,
   "id": "c79cb31e",
   "metadata": {
    "execution": {
     "iopub.execute_input": "2023-04-09T13:40:21.541304Z",
     "iopub.status.busy": "2023-04-09T13:40:21.540447Z",
     "iopub.status.idle": "2023-04-09T13:41:08.941993Z",
     "shell.execute_reply": "2023-04-09T13:41:08.940063Z"
    },
    "papermill": {
     "duration": 47.419535,
     "end_time": "2023-04-09T13:41:08.946400",
     "exception": false,
     "start_time": "2023-04-09T13:40:21.526865",
     "status": "completed"
    },
    "tags": []
   },
   "outputs": [
    {
     "name": "stdout",
     "output_type": "stream",
     "text": [
      "Epoch 1/15\n",
      "188/188 [==============================] - 11s 30ms/step - loss: 0.6906 - accuracy: 0.5596 - val_loss: 0.6875 - val_accuracy: 0.5636\n",
      "Epoch 2/15\n",
      "188/188 [==============================] - 4s 21ms/step - loss: 0.6701 - accuracy: 0.6426 - val_loss: 0.6226 - val_accuracy: 0.7808\n",
      "Epoch 3/15\n",
      "188/188 [==============================] - 4s 21ms/step - loss: 0.5248 - accuracy: 0.7972 - val_loss: 0.4889 - val_accuracy: 0.7828\n",
      "Epoch 4/15\n",
      "188/188 [==============================] - 4s 21ms/step - loss: 0.4421 - accuracy: 0.8254 - val_loss: 0.4635 - val_accuracy: 0.7955\n",
      "Epoch 5/15\n",
      "188/188 [==============================] - 4s 21ms/step - loss: 0.4059 - accuracy: 0.8427 - val_loss: 0.4579 - val_accuracy: 0.7961\n",
      "Epoch 6/15\n",
      "188/188 [==============================] - 4s 22ms/step - loss: 0.3812 - accuracy: 0.8554 - val_loss: 0.4667 - val_accuracy: 0.7935\n",
      "Epoch 7/15\n",
      "188/188 [==============================] - 4s 21ms/step - loss: 0.3644 - accuracy: 0.8624 - val_loss: 0.4693 - val_accuracy: 0.7948\n",
      "Epoch 8/15\n",
      "188/188 [==============================] - 4s 22ms/step - loss: 0.3496 - accuracy: 0.8712 - val_loss: 0.4821 - val_accuracy: 0.7908\n",
      "Epoch 9/15\n",
      "188/188 [==============================] - 4s 21ms/step - loss: 0.3391 - accuracy: 0.8710 - val_loss: 0.4866 - val_accuracy: 0.7915\n",
      "Epoch 10/15\n",
      "188/188 [==============================] - 4s 21ms/step - loss: 0.3293 - accuracy: 0.8752 - val_loss: 0.5043 - val_accuracy: 0.7901\n"
     ]
    }
   ],
   "source": [
    "history = model.fit(X_train, \n",
    "          y_train,\n",
    "          batch_size=32,\n",
    "          validation_data = (X_test, y_test),\n",
    "          epochs=15,\n",
    "          callbacks=[callback])"
   ]
  },
  {
   "cell_type": "markdown",
   "id": "2fb619d9",
   "metadata": {
    "papermill": {
     "duration": 0.052481,
     "end_time": "2023-04-09T13:41:09.052554",
     "exception": false,
     "start_time": "2023-04-09T13:41:09.000073",
     "status": "completed"
    },
    "tags": []
   },
   "source": [
    "Plot of validation accuracy and training accuracy.  In the second epoch (zero indexed in the plot) the validation accuracy is higher than the training accuracy, this is because validation is done at the end of epoch with after training while training is the average from the epoch."
   ]
  },
  {
   "cell_type": "code",
   "execution_count": 18,
   "id": "410c6495",
   "metadata": {
    "execution": {
     "iopub.execute_input": "2023-04-09T13:41:09.161720Z",
     "iopub.status.busy": "2023-04-09T13:41:09.160400Z",
     "iopub.status.idle": "2023-04-09T13:41:49.057893Z",
     "shell.execute_reply": "2023-04-09T13:41:49.056626Z"
    },
    "papermill": {
     "duration": 40.008581,
     "end_time": "2023-04-09T13:41:49.113485",
     "exception": false,
     "start_time": "2023-04-09T13:41:09.104904",
     "status": "completed"
    },
    "tags": []
   },
   "outputs": [
    {
     "data": {
      "image/png": "[encoded data removed]",
      "text/plain": [
       "<Figure size 640x480 with 1 Axes>"
      ]
     },
     "metadata": {},
     "output_type": "display_data"
    }
   ],
   "source": [
    "n = len(history.history['accuracy'])\n",
    "plt.plot(range(n), history.history['accuracy'])\n",
    "plt.plot(range(n), history.history['val_accuracy'])\n",
    "plt.show()"
   ]
  },
  {
   "cell_type": "markdown",
   "id": "332521fe",
   "metadata": {
    "papermill": {
     "duration": 0.054206,
     "end_time": "2023-04-09T13:41:49.220697",
     "exception": false,
     "start_time": "2023-04-09T13:41:49.166491",
     "status": "completed"
    },
    "tags": []
   },
   "source": [
    "Used this line to reset the model to best weights depending on the callback used.  Current callback doesn't reset weights and this does nothing."
   ]
  },
  {
   "cell_type": "code",
   "execution_count": 19,
   "id": "64d7fca6",
   "metadata": {
    "execution": {
     "iopub.execute_input": "2023-04-09T13:41:49.331429Z",
     "iopub.status.busy": "2023-04-09T13:41:49.330564Z",
     "iopub.status.idle": "2023-04-09T13:41:49.335596Z",
     "shell.execute_reply": "2023-04-09T13:41:49.334557Z"
    },
    "papermill": {
     "duration": 0.065248,
     "end_time": "2023-04-09T13:41:49.338334",
     "exception": false,
     "start_time": "2023-04-09T13:41:49.273086",
     "status": "completed"
    },
    "tags": []
   },
   "outputs": [],
   "source": [
    "best_model = history.model"
   ]
  },
  {
   "cell_type": "markdown",
   "id": "b266d1b0",
   "metadata": {
    "papermill": {
     "duration": 0.051558,
     "end_time": "2023-04-09T13:41:49.445049",
     "exception": false,
     "start_time": "2023-04-09T13:41:49.393491",
     "status": "completed"
    },
    "tags": []
   },
   "source": [
    "Predictions for the submission set."
   ]
  },
  {
   "cell_type": "code",
   "execution_count": 20,
   "id": "6eff890b",
   "metadata": {
    "execution": {
     "iopub.execute_input": "2023-04-09T13:41:49.555971Z",
     "iopub.status.busy": "2023-04-09T13:41:49.555191Z",
     "iopub.status.idle": "2023-04-09T13:41:49.620699Z",
     "shell.execute_reply": "2023-04-09T13:41:49.619200Z"
    },
    "papermill": {
     "duration": 0.123967,
     "end_time": "2023-04-09T13:41:49.624030",
     "exception": false,
     "start_time": "2023-04-09T13:41:49.500063",
     "status": "completed"
    },
    "tags": []
   },
   "outputs": [
    {
     "data": {
      "text/plain": [
       "((3263, 4), (3263,))"
      ]
     },
     "execution_count": 20,
     "metadata": {},
     "output_type": "execute_result"
    }
   ],
   "source": [
    "test_df = pd.read_csv('../input/nlp-getting-started/test.csv')\n",
    "test_df.text = test_df.text.str.lower()\n",
    "test_df.text = test_df.text.apply(lambda x: \" \".join(word for word in x.split(\" \") if word not in stop_words))\n",
    "test = test_df.text.values.flatten()\n",
    "test_df.shape, test.shape"
   ]
  },
  {
   "cell_type": "code",
   "execution_count": 21,
   "id": "0961365c",
   "metadata": {
    "execution": {
     "iopub.execute_input": "2023-04-09T13:41:49.734093Z",
     "iopub.status.busy": "2023-04-09T13:41:49.733555Z",
     "iopub.status.idle": "2023-04-09T13:41:52.579034Z",
     "shell.execute_reply": "2023-04-09T13:41:52.577445Z"
    },
    "papermill": {
     "duration": 2.905993,
     "end_time": "2023-04-09T13:41:52.582432",
     "exception": false,
     "start_time": "2023-04-09T13:41:49.676439",
     "status": "completed"
    },
    "tags": []
   },
   "outputs": [
    {
     "name": "stdout",
     "output_type": "stream",
     "text": [
      "102/102 [==============================] - 2s 6ms/step\n"
     ]
    }
   ],
   "source": [
    "yhat = best_model.predict(test)"
   ]
  },
  {
   "cell_type": "code",
   "execution_count": 22,
   "id": "4c8f8bd1",
   "metadata": {
    "execution": {
     "iopub.execute_input": "2023-04-09T13:41:52.707728Z",
     "iopub.status.busy": "2023-04-09T13:41:52.707197Z",
     "iopub.status.idle": "2023-04-09T13:41:52.729503Z",
     "shell.execute_reply": "2023-04-09T13:41:52.728345Z"
    },
    "papermill": {
     "duration": 0.083062,
     "end_time": "2023-04-09T13:41:52.732833",
     "exception": false,
     "start_time": "2023-04-09T13:41:52.649771",
     "status": "completed"
    },
    "tags": []
   },
   "outputs": [],
   "source": [
    "submission = test_df[['id']].copy()\n",
    "submission['target'] = np.round(yhat,0)\n",
    "submission.target = submission.target.astype(int)\n",
    "submission.to_csv('submission.csv', index=False)"
   ]
  },
  {
   "cell_type": "code",
   "execution_count": 23,
   "id": "f1916a27",
   "metadata": {
    "execution": {
     "iopub.execute_input": "2023-04-09T13:41:52.845551Z",
     "iopub.status.busy": "2023-04-09T13:41:52.844775Z",
     "iopub.status.idle": "2023-04-09T13:41:52.860585Z",
     "shell.execute_reply": "2023-04-09T13:41:52.859170Z"
    },
    "papermill": {
     "duration": 0.078018,
     "end_time": "2023-04-09T13:41:52.865035",
     "exception": false,
     "start_time": "2023-04-09T13:41:52.787017",
     "status": "completed"
    },
    "tags": []
   },
   "outputs": [
    {
     "data": {
      "text/html": [
       "<div>\n",
       "<style scoped>\n",
       "    .dataframe tbody tr th:only-of-type {\n",
       "        vertical-align: middle;\n",
       "    }\n",
       "\n",
       "    .dataframe tbody tr th {\n",
       "        vertical-align: top;\n",
       "    }\n",
       "\n",
       "    .dataframe thead th {\n",
       "        text-align: right;\n",
       "    }\n",
       "</style>\n",
       "<table border=\"1\" class=\"dataframe\">\n",
       "  <thead>\n",
       "    <tr style=\"text-align: right;\">\n",
       "      <th></th>\n",
       "      <th>id</th>\n",
       "      <th>target</th>\n",
       "    </tr>\n",
       "  </thead>\n",
       "  <tbody>\n",
       "    <tr>\n",
       "      <th>0</th>\n",
       "      <td>0</td>\n",
       "      <td>1</td>\n",
       "    </tr>\n",
       "    <tr>\n",
       "      <th>1</th>\n",
       "      <td>2</td>\n",
       "      <td>1</td>\n",
       "    </tr>\n",
       "    <tr>\n",
       "      <th>2</th>\n",
       "      <td>3</td>\n",
       "      <td>1</td>\n",
       "    </tr>\n",
       "    <tr>\n",
       "      <th>3</th>\n",
       "      <td>9</td>\n",
       "      <td>0</td>\n",
       "    </tr>\n",
       "    <tr>\n",
       "      <th>4</th>\n",
       "      <td>11</td>\n",
       "      <td>1</td>\n",
       "    </tr>\n",
       "  </tbody>\n",
       "</table>\n",
       "</div>"
      ],
      "text/plain": [
       "   id  target\n",
       "0   0       1\n",
       "1   2       1\n",
       "2   3       1\n",
       "3   9       0\n",
       "4  11       1"
      ]
     },
     "execution_count": 23,
     "metadata": {},
     "output_type": "execute_result"
    }
   ],
   "source": [
    "pd.read_csv('submission.csv').head()"
   ]
  },
  {
   "cell_type": "code",
   "execution_count": null,
   "id": "9fffd520",
   "metadata": {
    "papermill": {
     "duration": 0.053257,
     "end_time": "2023-04-09T13:41:52.973425",
     "exception": false,
     "start_time": "2023-04-09T13:41:52.920168",
     "status": "completed"
    },
    "tags": []
   },
   "outputs": [],
   "source": []
  }
 ],
 "metadata": {
  "kernelspec": {
   "display_name": "Python 3",
   "language": "python",
   "name": "python3"
  },
  "language_info": {
   "codemirror_mode": {
    "name": "ipython",
    "version": 3
   },
   "file_extension": ".py",
   "mimetype": "text/x-python",
   "name": "python",
   "nbconvert_exporter": "python",
   "pygments_lexer": "ipython3",
   "version": "3.7.12"
  },
  "papermill": {
   "default_parameters": {},
   "duration": 121.10238,
   "end_time": "2023-04-09T13:41:56.398597",
   "environment_variables": {},
   "exception": null,
   "input_path": "__notebook__.ipynb",
   "output_path": "__notebook__.ipynb",
   "parameters": {},
   "start_time": "2023-04-09T13:39:55.296217",
   "version": "2.4.0"
  }
 },
 "nbformat": 4,
 "nbformat_minor": 5
}
