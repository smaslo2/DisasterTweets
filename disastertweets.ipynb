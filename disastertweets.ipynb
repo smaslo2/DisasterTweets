{
 "cells": [
  {
   "cell_type": "code",
   "execution_count": 1,
   "id": "7d5aa034",
   "metadata": {
    "_cell_guid": "b1076dfc-b9ad-4769-8c92-a6c4dae69d19",
    "_uuid": "8f2839f25d086af736a60e9eeb907d3b93b6e0e5",
    "execution": {
     "iopub.execute_input": "2023-04-07T22:59:31.836875Z",
     "iopub.status.busy": "2023-04-07T22:59:31.836311Z",
     "iopub.status.idle": "2023-04-07T22:59:31.855487Z",
     "shell.execute_reply": "2023-04-07T22:59:31.854029Z"
    },
    "papermill": {
     "duration": 0.030862,
     "end_time": "2023-04-07T22:59:31.858714",
     "exception": false,
     "start_time": "2023-04-07T22:59:31.827852",
     "status": "completed"
    },
    "tags": []
   },
   "outputs": [
    {
     "name": "stdout",
     "output_type": "stream",
     "text": [
      "/kaggle/input/nlp-getting-started/sample_submission.csv\n",
      "/kaggle/input/nlp-getting-started/train.csv\n",
      "/kaggle/input/nlp-getting-started/test.csv\n"
     ]
    }
   ],
   "source": [
    "# This Python 3 environment comes with many helpful analytics libraries installed\n",
    "# It is defined by the kaggle/python Docker image: https://github.com/kaggle/docker-python\n",
    "# For example, here's several helpful packages to load\n",
    "\n",
    "import numpy as np # linear algebra\n",
    "import pandas as pd # data processing, CSV file I/O (e.g. pd.read_csv)\n",
    "\n",
    "# Input data files are available in the read-only \"../input/\" directory\n",
    "# For example, running this (by clicking run or pressing Shift+Enter) will list all files under the input directory\n",
    "\n",
    "import os\n",
    "for dirname, _, filenames in os.walk('/kaggle/input'):\n",
    "    for filename in filenames:\n",
    "        print(os.path.join(dirname, filename))\n",
    "\n",
    "# You can write up to 20GB to the current directory (/kaggle/working/) that gets preserved as output when you create a version using \"Save & Run All\" \n",
    "# You can also write temporary files to /kaggle/temp/, but they won't be saved outside of the current session"
   ]
  },
  {
   "cell_type": "code",
   "execution_count": 2,
   "id": "fd721190",
   "metadata": {
    "execution": {
     "iopub.execute_input": "2023-04-07T22:59:31.872550Z",
     "iopub.status.busy": "2023-04-07T22:59:31.871748Z",
     "iopub.status.idle": "2023-04-07T22:59:41.958800Z",
     "shell.execute_reply": "2023-04-07T22:59:41.957294Z"
    },
    "papermill": {
     "duration": 10.097434,
     "end_time": "2023-04-07T22:59:41.961953",
     "exception": false,
     "start_time": "2023-04-07T22:59:31.864519",
     "status": "completed"
    },
    "tags": []
   },
   "outputs": [],
   "source": [
    "import tensorflow as tf\n",
    "import matplotlib.pyplot as plt"
   ]
  },
  {
   "cell_type": "code",
   "execution_count": 3,
   "id": "95f06a27",
   "metadata": {
    "execution": {
     "iopub.execute_input": "2023-04-07T22:59:41.977867Z",
     "iopub.status.busy": "2023-04-07T22:59:41.976297Z",
     "iopub.status.idle": "2023-04-07T22:59:42.039796Z",
     "shell.execute_reply": "2023-04-07T22:59:42.038573Z"
    },
    "papermill": {
     "duration": 0.074496,
     "end_time": "2023-04-07T22:59:42.042671",
     "exception": false,
     "start_time": "2023-04-07T22:59:41.968175",
     "status": "completed"
    },
    "tags": []
   },
   "outputs": [],
   "source": [
    "df = pd.read_csv('../input/nlp-getting-started/train.csv')"
   ]
  },
  {
   "cell_type": "code",
   "execution_count": 4,
   "id": "94c58a4b",
   "metadata": {
    "execution": {
     "iopub.execute_input": "2023-04-07T22:59:42.056230Z",
     "iopub.status.busy": "2023-04-07T22:59:42.055373Z",
     "iopub.status.idle": "2023-04-07T22:59:42.088248Z",
     "shell.execute_reply": "2023-04-07T22:59:42.086816Z"
    },
    "papermill": {
     "duration": 0.042555,
     "end_time": "2023-04-07T22:59:42.090984",
     "exception": false,
     "start_time": "2023-04-07T22:59:42.048429",
     "status": "completed"
    },
    "tags": []
   },
   "outputs": [
    {
     "data": {
      "text/html": [
       "<div>\n",
       "<style scoped>\n",
       "    .dataframe tbody tr th:only-of-type {\n",
       "        vertical-align: middle;\n",
       "    }\n",
       "\n",
       "    .dataframe tbody tr th {\n",
       "        vertical-align: top;\n",
       "    }\n",
       "\n",
       "    .dataframe thead th {\n",
       "        text-align: right;\n",
       "    }\n",
       "</style>\n",
       "<table border=\"1\" class=\"dataframe\">\n",
       "  <thead>\n",
       "    <tr style=\"text-align: right;\">\n",
       "      <th></th>\n",
       "      <th>id</th>\n",
       "      <th>keyword</th>\n",
       "      <th>location</th>\n",
       "      <th>text</th>\n",
       "      <th>target</th>\n",
       "    </tr>\n",
       "  </thead>\n",
       "  <tbody>\n",
       "    <tr>\n",
       "      <th>0</th>\n",
       "      <td>1</td>\n",
       "      <td>NaN</td>\n",
       "      <td>NaN</td>\n",
       "      <td>Our Deeds are the Reason of this #earthquake M...</td>\n",
       "      <td>1</td>\n",
       "    </tr>\n",
       "    <tr>\n",
       "      <th>1</th>\n",
       "      <td>4</td>\n",
       "      <td>NaN</td>\n",
       "      <td>NaN</td>\n",
       "      <td>Forest fire near La Ronge Sask. Canada</td>\n",
       "      <td>1</td>\n",
       "    </tr>\n",
       "    <tr>\n",
       "      <th>2</th>\n",
       "      <td>5</td>\n",
       "      <td>NaN</td>\n",
       "      <td>NaN</td>\n",
       "      <td>All residents asked to 'shelter in place' are ...</td>\n",
       "      <td>1</td>\n",
       "    </tr>\n",
       "    <tr>\n",
       "      <th>3</th>\n",
       "      <td>6</td>\n",
       "      <td>NaN</td>\n",
       "      <td>NaN</td>\n",
       "      <td>13,000 people receive #wildfires evacuation or...</td>\n",
       "      <td>1</td>\n",
       "    </tr>\n",
       "    <tr>\n",
       "      <th>4</th>\n",
       "      <td>7</td>\n",
       "      <td>NaN</td>\n",
       "      <td>NaN</td>\n",
       "      <td>Just got sent this photo from Ruby #Alaska as ...</td>\n",
       "      <td>1</td>\n",
       "    </tr>\n",
       "  </tbody>\n",
       "</table>\n",
       "</div>"
      ],
      "text/plain": [
       "   id keyword location                                               text  \\\n",
       "0   1     NaN      NaN  Our Deeds are the Reason of this #earthquake M...   \n",
       "1   4     NaN      NaN             Forest fire near La Ronge Sask. Canada   \n",
       "2   5     NaN      NaN  All residents asked to 'shelter in place' are ...   \n",
       "3   6     NaN      NaN  13,000 people receive #wildfires evacuation or...   \n",
       "4   7     NaN      NaN  Just got sent this photo from Ruby #Alaska as ...   \n",
       "\n",
       "   target  \n",
       "0       1  \n",
       "1       1  \n",
       "2       1  \n",
       "3       1  \n",
       "4       1  "
      ]
     },
     "execution_count": 4,
     "metadata": {},
     "output_type": "execute_result"
    }
   ],
   "source": [
    "df.head()"
   ]
  },
  {
   "cell_type": "code",
   "execution_count": 5,
   "id": "6cf00d63",
   "metadata": {
    "execution": {
     "iopub.execute_input": "2023-04-07T22:59:42.105320Z",
     "iopub.status.busy": "2023-04-07T22:59:42.104288Z",
     "iopub.status.idle": "2023-04-07T22:59:42.480536Z",
     "shell.execute_reply": "2023-04-07T22:59:42.479051Z"
    },
    "papermill": {
     "duration": 0.386688,
     "end_time": "2023-04-07T22:59:42.483644",
     "exception": false,
     "start_time": "2023-04-07T22:59:42.096956",
     "status": "completed"
    },
    "tags": []
   },
   "outputs": [
    {
     "data": {
      "text/plain": [
       "31"
      ]
     },
     "execution_count": 5,
     "metadata": {},
     "output_type": "execute_result"
    },
    {
     "data": {
      "image/png": "[encoded data removed]",
      "text/plain": [
       "<Figure size 640x480 with 1 Axes>"
      ]
     },
     "metadata": {},
     "output_type": "display_data"
    }
   ],
   "source": [
    "x = df.text.apply(str.split).apply(len)\n",
    "x.hist()\n",
    "plt.show\n",
    "x.max()"
   ]
  },
  {
   "cell_type": "code",
   "execution_count": 6,
   "id": "d0cb745a",
   "metadata": {
    "execution": {
     "iopub.execute_input": "2023-04-07T22:59:42.498530Z",
     "iopub.status.busy": "2023-04-07T22:59:42.497667Z",
     "iopub.status.idle": "2023-04-07T22:59:42.502940Z",
     "shell.execute_reply": "2023-04-07T22:59:42.501691Z"
    },
    "papermill": {
     "duration": 0.015304,
     "end_time": "2023-04-07T22:59:42.505356",
     "exception": false,
     "start_time": "2023-04-07T22:59:42.490052",
     "status": "completed"
    },
    "tags": []
   },
   "outputs": [],
   "source": [
    "#X_train = df.text.apply(lambda x:\"\".join(ch.lower() for ch in x if ch.isalnum() or ch == \" \"))"
   ]
  },
  {
   "cell_type": "code",
   "execution_count": 7,
   "id": "b8db1fc3",
   "metadata": {
    "execution": {
     "iopub.execute_input": "2023-04-07T22:59:42.519961Z",
     "iopub.status.busy": "2023-04-07T22:59:42.519525Z",
     "iopub.status.idle": "2023-04-07T22:59:42.591296Z",
     "shell.execute_reply": "2023-04-07T22:59:42.589776Z"
    },
    "papermill": {
     "duration": 0.082717,
     "end_time": "2023-04-07T22:59:42.594391",
     "exception": false,
     "start_time": "2023-04-07T22:59:42.511674",
     "status": "completed"
    },
    "tags": []
   },
   "outputs": [],
   "source": [
    "stop_words = [ 'stop', 'the', 'to', 'and', 'a', 'in', 'it', 'is', 'i', 'that', 'had', 'on', 'for', 'were', 'was', 'of', 'as', 'are'] # mostly from NLTK\n",
    "df.text = df.text.str.lower()\n",
    "df.text = df.text.apply(lambda x: \" \".join(word for word in x.split(\" \") if word not in stop_words))"
   ]
  },
  {
   "cell_type": "code",
   "execution_count": 8,
   "id": "3df5d46d",
   "metadata": {
    "execution": {
     "iopub.execute_input": "2023-04-07T22:59:42.608914Z",
     "iopub.status.busy": "2023-04-07T22:59:42.608474Z",
     "iopub.status.idle": "2023-04-07T22:59:42.617607Z",
     "shell.execute_reply": "2023-04-07T22:59:42.616096Z"
    },
    "papermill": {
     "duration": 0.019605,
     "end_time": "2023-04-07T22:59:42.620245",
     "exception": false,
     "start_time": "2023-04-07T22:59:42.600640",
     "status": "completed"
    },
    "tags": []
   },
   "outputs": [
    {
     "data": {
      "text/plain": [
       "0    our deeds reason this #earthquake may allah fo...\n",
       "1               forest fire near la ronge sask. canada\n",
       "2    all residents asked 'shelter place' being noti...\n",
       "3    13,000 people receive #wildfires evacuation or...\n",
       "4    just got sent this photo from ruby #alaska smo...\n",
       "Name: text, dtype: object"
      ]
     },
     "execution_count": 8,
     "metadata": {},
     "output_type": "execute_result"
    }
   ],
   "source": [
    "df.text.head()"
   ]
  },
  {
   "cell_type": "code",
   "execution_count": 9,
   "id": "28aea265",
   "metadata": {
    "execution": {
     "iopub.execute_input": "2023-04-07T22:59:42.636195Z",
     "iopub.status.busy": "2023-04-07T22:59:42.635757Z",
     "iopub.status.idle": "2023-04-07T22:59:42.653603Z",
     "shell.execute_reply": "2023-04-07T22:59:42.652565Z"
    },
    "papermill": {
     "duration": 0.030091,
     "end_time": "2023-04-07T22:59:42.656773",
     "exception": false,
     "start_time": "2023-04-07T22:59:42.626682",
     "status": "completed"
    },
    "tags": []
   },
   "outputs": [
    {
     "data": {
      "text/plain": [
       "((6090, 5), (1523, 5))"
      ]
     },
     "execution_count": 9,
     "metadata": {},
     "output_type": "execute_result"
    }
   ],
   "source": [
    "train = df.sample(frac=0.8, replace=False, random_state=42)\n",
    "df.index.drop(train.index)\n",
    "test = df.loc[df.index.drop(train.index)]\n",
    "train.shape, test.shape"
   ]
  },
  {
   "cell_type": "code",
   "execution_count": 10,
   "id": "8b2e8abe",
   "metadata": {
    "execution": {
     "iopub.execute_input": "2023-04-07T22:59:42.673658Z",
     "iopub.status.busy": "2023-04-07T22:59:42.672872Z",
     "iopub.status.idle": "2023-04-07T22:59:42.683742Z",
     "shell.execute_reply": "2023-04-07T22:59:42.682171Z"
    },
    "papermill": {
     "duration": 0.023893,
     "end_time": "2023-04-07T22:59:42.687438",
     "exception": false,
     "start_time": "2023-04-07T22:59:42.663545",
     "status": "completed"
    },
    "tags": []
   },
   "outputs": [
    {
     "data": {
      "text/plain": [
       "((6090,), (6090,), (1523,), (1523,))"
      ]
     },
     "execution_count": 10,
     "metadata": {},
     "output_type": "execute_result"
    }
   ],
   "source": [
    "X_train = train.text.values.flatten()\n",
    "y_train = train.target.values.flatten()\n",
    "X_test = test.text.values.flatten()\n",
    "y_test = test.target.values.flatten()\n",
    "X_train.shape, y_train.shape, X_test.shape, y_test.shape"
   ]
  },
  {
   "cell_type": "code",
   "execution_count": 11,
   "id": "4de3b969",
   "metadata": {
    "execution": {
     "iopub.execute_input": "2023-04-07T22:59:42.703839Z",
     "iopub.status.busy": "2023-04-07T22:59:42.703396Z",
     "iopub.status.idle": "2023-04-07T22:59:42.711275Z",
     "shell.execute_reply": "2023-04-07T22:59:42.710263Z"
    },
    "papermill": {
     "duration": 0.019802,
     "end_time": "2023-04-07T22:59:42.713950",
     "exception": false,
     "start_time": "2023-04-07T22:59:42.694148",
     "status": "completed"
    },
    "tags": []
   },
   "outputs": [],
   "source": [
    "from tensorflow.keras.layers import TextVectorization\n",
    "from tensorflow.keras import Sequential\n",
    "from tensorflow.keras.layers import Embedding, LSTM, Dense\n",
    "from tensorflow.keras.callbacks import EarlyStopping"
   ]
  },
  {
   "cell_type": "code",
   "execution_count": 12,
   "id": "1936383c",
   "metadata": {
    "execution": {
     "iopub.execute_input": "2023-04-07T22:59:42.730252Z",
     "iopub.status.busy": "2023-04-07T22:59:42.729387Z",
     "iopub.status.idle": "2023-04-07T22:59:43.781329Z",
     "shell.execute_reply": "2023-04-07T22:59:43.779948Z"
    },
    "papermill": {
     "duration": 1.064058,
     "end_time": "2023-04-07T22:59:43.784659",
     "exception": false,
     "start_time": "2023-04-07T22:59:42.720601",
     "status": "completed"
    },
    "tags": []
   },
   "outputs": [],
   "source": [
    "tokens = 1000\n",
    "encoder=TextVectorization(max_tokens=tokens, \n",
    "                          standardize='lower_and_strip_punctuation',\n",
    "                          split='whitespace',\n",
    "                          ngrams=2,\n",
    "                          output_mode='int')\n",
    "encoder.adapt(X_train)\n",
    "callback=EarlyStopping(monitor='val_loss', patience = 3, restore_best_weights=True, start_from_epoch=5)"
   ]
  },
  {
   "cell_type": "code",
   "execution_count": 13,
   "id": "ae0c1749",
   "metadata": {
    "execution": {
     "iopub.execute_input": "2023-04-07T22:59:43.799883Z",
     "iopub.status.busy": "2023-04-07T22:59:43.799461Z",
     "iopub.status.idle": "2023-04-07T22:59:43.812790Z",
     "shell.execute_reply": "2023-04-07T22:59:43.811341Z"
    },
    "papermill": {
     "duration": 0.024787,
     "end_time": "2023-04-07T22:59:43.816165",
     "exception": false,
     "start_time": "2023-04-07T22:59:43.791378",
     "status": "completed"
    },
    "tags": []
   },
   "outputs": [
    {
     "data": {
      "text/plain": [
       "['', '[UNK]', 'you', 'my', 'with', 'at', 'by', 'this', 'from', 'be']"
      ]
     },
     "execution_count": 13,
     "metadata": {},
     "output_type": "execute_result"
    }
   ],
   "source": [
    "encoder.get_vocabulary()[:10]"
   ]
  },
  {
   "cell_type": "code",
   "execution_count": 14,
   "id": "63b8f74d",
   "metadata": {
    "execution": {
     "iopub.execute_input": "2023-04-07T22:59:43.832814Z",
     "iopub.status.busy": "2023-04-07T22:59:43.832293Z",
     "iopub.status.idle": "2023-04-07T22:59:45.356754Z",
     "shell.execute_reply": "2023-04-07T22:59:45.355081Z"
    },
    "papermill": {
     "duration": 1.541905,
     "end_time": "2023-04-07T22:59:45.365209",
     "exception": false,
     "start_time": "2023-04-07T22:59:43.823304",
     "status": "completed"
    },
    "tags": []
   },
   "outputs": [
    {
     "name": "stdout",
     "output_type": "stream",
     "text": [
      "Model: \"sequential\"\n",
      "_________________________________________________________________\n",
      " Layer (type)                Output Shape              Param #   \n",
      "=================================================================\n",
      " text_vectorization (TextVec  (None, None)             0         \n",
      " torization)                                                     \n",
      "                                                                 \n",
      " embedding (Embedding)       (None, None, 30)          30000     \n",
      "                                                                 \n",
      " lstm (LSTM)                 (None, 30)                7320      \n",
      "                                                                 \n",
      " dense (Dense)               (None, 20)                620       \n",
      "                                                                 \n",
      " dense_1 (Dense)             (None, 20)                420       \n",
      "                                                                 \n",
      " dense_2 (Dense)             (None, 1)                 21        \n",
      "                                                                 \n",
      "=================================================================\n",
      "Total params: 38,381\n",
      "Trainable params: 38,381\n",
      "Non-trainable params: 0\n",
      "_________________________________________________________________\n"
     ]
    }
   ],
   "source": [
    "model = Sequential([\n",
    "    encoder,\n",
    "    Embedding(input_dim=tokens, mask_zero=True, output_dim = 30),\n",
    "    LSTM(30, return_sequences=False),\n",
    "    Dense(20, activation='relu'),\n",
    "    Dense(20, activation='relu'),\n",
    "    Dense(1, activation='sigmoid')\n",
    "])\n",
    "model.compile(loss=tf.keras.losses.BinaryCrossentropy(),\n",
    "              optimizer=tf.keras.optimizers.Adam(1e-4),\n",
    "              metrics=['accuracy'])\n",
    "model.summary()"
   ]
  },
  {
   "cell_type": "code",
   "execution_count": 15,
   "id": "6adb246c",
   "metadata": {
    "execution": {
     "iopub.execute_input": "2023-04-07T22:59:45.383933Z",
     "iopub.status.busy": "2023-04-07T22:59:45.383410Z",
     "iopub.status.idle": "2023-04-07T23:00:54.258307Z",
     "shell.execute_reply": "2023-04-07T23:00:54.256526Z"
    },
    "papermill": {
     "duration": 68.888079,
     "end_time": "2023-04-07T23:00:54.261298",
     "exception": false,
     "start_time": "2023-04-07T22:59:45.373219",
     "status": "completed"
    },
    "tags": []
   },
   "outputs": [
    {
     "name": "stdout",
     "output_type": "stream",
     "text": [
      "Epoch 1/15\n",
      "191/191 [==============================] - 13s 36ms/step - loss: 0.6914 - accuracy: 0.5655 - val_loss: 0.6892 - val_accuracy: 0.5706\n",
      "Epoch 2/15\n",
      "191/191 [==============================] - 6s 31ms/step - loss: 0.6864 - accuracy: 0.5703 - val_loss: 0.6837 - val_accuracy: 0.5706\n",
      "Epoch 3/15\n",
      "191/191 [==============================] - 6s 30ms/step - loss: 0.6803 - accuracy: 0.5760 - val_loss: 0.6722 - val_accuracy: 0.5877\n",
      "Epoch 4/15\n",
      "191/191 [==============================] - 6s 29ms/step - loss: 0.5811 - accuracy: 0.7259 - val_loss: 0.5608 - val_accuracy: 0.7439\n",
      "Epoch 5/15\n",
      "191/191 [==============================] - 6s 30ms/step - loss: 0.4959 - accuracy: 0.7975 - val_loss: 0.5258 - val_accuracy: 0.7708\n",
      "Epoch 6/15\n",
      "191/191 [==============================] - 6s 30ms/step - loss: 0.4702 - accuracy: 0.8061 - val_loss: 0.5271 - val_accuracy: 0.7682\n",
      "Epoch 7/15\n",
      "191/191 [==============================] - 6s 29ms/step - loss: 0.4543 - accuracy: 0.8153 - val_loss: 0.5126 - val_accuracy: 0.7820\n",
      "Epoch 8/15\n",
      "191/191 [==============================] - 5s 29ms/step - loss: 0.4354 - accuracy: 0.8212 - val_loss: 0.5115 - val_accuracy: 0.7781\n",
      "Epoch 9/15\n",
      "191/191 [==============================] - 5s 28ms/step - loss: 0.4230 - accuracy: 0.8294 - val_loss: 0.5165 - val_accuracy: 0.7774\n",
      "Epoch 10/15\n",
      "191/191 [==============================] - 6s 29ms/step - loss: 0.4168 - accuracy: 0.8340 - val_loss: 0.5139 - val_accuracy: 0.7787\n",
      "Epoch 11/15\n",
      "191/191 [==============================] - 5s 29ms/step - loss: 0.4101 - accuracy: 0.8325 - val_loss: 0.5137 - val_accuracy: 0.7728\n"
     ]
    }
   ],
   "source": [
    "history = model.fit(X_train, \n",
    "          y_train,\n",
    "          batch_size=32,\n",
    "          validation_data = (X_test, y_test),\n",
    "          epochs=15,\n",
    "          callbacks=[callback])"
   ]
  },
  {
   "cell_type": "code",
   "execution_count": 16,
   "id": "ef8a6566",
   "metadata": {
    "execution": {
     "iopub.execute_input": "2023-04-07T23:00:54.401018Z",
     "iopub.status.busy": "2023-04-07T23:00:54.400566Z",
     "iopub.status.idle": "2023-04-07T23:01:12.672963Z",
     "shell.execute_reply": "2023-04-07T23:01:12.671788Z"
    },
    "papermill": {
     "duration": 18.345636,
     "end_time": "2023-04-07T23:01:12.675761",
     "exception": false,
     "start_time": "2023-04-07T23:00:54.330125",
     "status": "completed"
    },
    "tags": []
   },
   "outputs": [
    {
     "data": {
      "image/png": "[encoded data removed]",
      "text/plain": [
       "<Figure size 640x480 with 1 Axes>"
      ]
     },
     "metadata": {},
     "output_type": "display_data"
    }
   ],
   "source": [
    "n = len(history.history['accuracy'])\n",
    "plt.plot(range(n), history.history['accuracy'])\n",
    "plt.plot(range(n), history.history['val_accuracy'])\n",
    "plt.show()"
   ]
  },
  {
   "cell_type": "code",
   "execution_count": 17,
   "id": "724d6b94",
   "metadata": {
    "execution": {
     "iopub.execute_input": "2023-04-07T23:01:12.816798Z",
     "iopub.status.busy": "2023-04-07T23:01:12.815922Z",
     "iopub.status.idle": "2023-04-07T23:01:12.821391Z",
     "shell.execute_reply": "2023-04-07T23:01:12.819894Z"
    },
    "papermill": {
     "duration": 0.080052,
     "end_time": "2023-04-07T23:01:12.824300",
     "exception": false,
     "start_time": "2023-04-07T23:01:12.744248",
     "status": "completed"
    },
    "tags": []
   },
   "outputs": [],
   "source": [
    "best_model = history.model"
   ]
  },
  {
   "cell_type": "code",
   "execution_count": 18,
   "id": "2ef765da",
   "metadata": {
    "execution": {
     "iopub.execute_input": "2023-04-07T23:01:12.965340Z",
     "iopub.status.busy": "2023-04-07T23:01:12.964472Z",
     "iopub.status.idle": "2023-04-07T23:01:13.033322Z",
     "shell.execute_reply": "2023-04-07T23:01:13.031757Z"
    },
    "papermill": {
     "duration": 0.143964,
     "end_time": "2023-04-07T23:01:13.036819",
     "exception": false,
     "start_time": "2023-04-07T23:01:12.892855",
     "status": "completed"
    },
    "tags": []
   },
   "outputs": [
    {
     "data": {
      "text/plain": [
       "((3263, 4), (3263,))"
      ]
     },
     "execution_count": 18,
     "metadata": {},
     "output_type": "execute_result"
    }
   ],
   "source": [
    "test_df = pd.read_csv('../input/nlp-getting-started/test.csv')\n",
    "test_df.text = df.text.str.lower()\n",
    "test_df.text = test_df.text.apply(lambda x: \" \".join(word for word in x.split(\" \") if word not in stop_words))\n",
    "test = test_df.text.values.flatten()\n",
    "test_df.shape, test.shape"
   ]
  },
  {
   "cell_type": "code",
   "execution_count": 19,
   "id": "9e738831",
   "metadata": {
    "execution": {
     "iopub.execute_input": "2023-04-07T23:01:13.177768Z",
     "iopub.status.busy": "2023-04-07T23:01:13.177307Z",
     "iopub.status.idle": "2023-04-07T23:01:15.725178Z",
     "shell.execute_reply": "2023-04-07T23:01:15.723762Z"
    },
    "papermill": {
     "duration": 2.62196,
     "end_time": "2023-04-07T23:01:15.728443",
     "exception": false,
     "start_time": "2023-04-07T23:01:13.106483",
     "status": "completed"
    },
    "tags": []
   },
   "outputs": [
    {
     "name": "stdout",
     "output_type": "stream",
     "text": [
      "102/102 [==============================] - 2s 9ms/step\n"
     ]
    }
   ],
   "source": [
    "yhat = best_model.predict(test)"
   ]
  },
  {
   "cell_type": "code",
   "execution_count": 20,
   "id": "928b6a13",
   "metadata": {
    "execution": {
     "iopub.execute_input": "2023-04-07T23:01:15.870853Z",
     "iopub.status.busy": "2023-04-07T23:01:15.870382Z",
     "iopub.status.idle": "2023-04-07T23:01:15.891587Z",
     "shell.execute_reply": "2023-04-07T23:01:15.890518Z"
    },
    "papermill": {
     "duration": 0.09609,
     "end_time": "2023-04-07T23:01:15.894347",
     "exception": false,
     "start_time": "2023-04-07T23:01:15.798257",
     "status": "completed"
    },
    "tags": []
   },
   "outputs": [],
   "source": [
    "submission = test_df[['id']].copy()\n",
    "submission['target'] = yhat\n",
    "submission.to_csv('submission.csv', index=False)"
   ]
  }
 ],
 "metadata": {
  "kernelspec": {
   "display_name": "Python 3",
   "language": "python",
   "name": "python3"
  },
  "language_info": {
   "codemirror_mode": {
    "name": "ipython",
    "version": 3
   },
   "file_extension": ".py",
   "mimetype": "text/x-python",
   "name": "python",
   "nbconvert_exporter": "python",
   "pygments_lexer": "ipython3",
   "version": "3.7.12"
  },
  "papermill": {
   "default_parameters": {},
   "duration": 118.894448,
   "end_time": "2023-04-07T23:01:19.390085",
   "environment_variables": {},
   "exception": null,
   "input_path": "__notebook__.ipynb",
   "output_path": "__notebook__.ipynb",
   "parameters": {},
   "start_time": "2023-04-07T22:59:20.495637",
   "version": "2.4.0"
  }
 },
 "nbformat": 4,
 "nbformat_minor": 5
}
