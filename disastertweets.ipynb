{
 "cells": [
  {
   "cell_type": "code",
   "execution_count": 1,
   "id": "c816c196",
   "metadata": {
    "_cell_guid": "b1076dfc-b9ad-4769-8c92-a6c4dae69d19",
    "_uuid": "8f2839f25d086af736a60e9eeb907d3b93b6e0e5",
    "execution": {
     "iopub.execute_input": "2023-04-08T20:31:13.936091Z",
     "iopub.status.busy": "2023-04-08T20:31:13.935700Z",
     "iopub.status.idle": "2023-04-08T20:31:13.947924Z",
     "shell.execute_reply": "2023-04-08T20:31:13.946969Z"
    },
    "papermill": {
     "duration": 0.023398,
     "end_time": "2023-04-08T20:31:13.950583",
     "exception": false,
     "start_time": "2023-04-08T20:31:13.927185",
     "status": "completed"
    },
    "tags": []
   },
   "outputs": [
    {
     "name": "stdout",
     "output_type": "stream",
     "text": [
      "/kaggle/input/nlp-getting-started/sample_submission.csv\n",
      "/kaggle/input/nlp-getting-started/train.csv\n",
      "/kaggle/input/nlp-getting-started/test.csv\n"
     ]
    }
   ],
   "source": [
    "# This Python 3 environment comes with many helpful analytics libraries installed\n",
    "# It is defined by the kaggle/python Docker image: https://github.com/kaggle/docker-python\n",
    "# For example, here's several helpful packages to load\n",
    "\n",
    "import numpy as np # linear algebra\n",
    "import pandas as pd # data processing, CSV file I/O (e.g. pd.read_csv)\n",
    "\n",
    "# Input data files are available in the read-only \"../input/\" directory\n",
    "# For example, running this (by clicking run or pressing Shift+Enter) will list all files under the input directory\n",
    "\n",
    "import os\n",
    "for dirname, _, filenames in os.walk('/kaggle/input'):\n",
    "    for filename in filenames:\n",
    "        print(os.path.join(dirname, filename))\n",
    "\n",
    "# You can write up to 20GB to the current directory (/kaggle/working/) that gets preserved as output when you create a version using \"Save & Run All\" \n",
    "# You can also write temporary files to /kaggle/temp/, but they won't be saved outside of the current session"
   ]
  },
  {
   "cell_type": "code",
   "execution_count": 2,
   "id": "0d6b4f35",
   "metadata": {
    "execution": {
     "iopub.execute_input": "2023-04-08T20:31:13.963340Z",
     "iopub.status.busy": "2023-04-08T20:31:13.962430Z",
     "iopub.status.idle": "2023-04-08T20:31:22.152150Z",
     "shell.execute_reply": "2023-04-08T20:31:22.150756Z"
    },
    "papermill": {
     "duration": 8.198847,
     "end_time": "2023-04-08T20:31:22.155066",
     "exception": false,
     "start_time": "2023-04-08T20:31:13.956219",
     "status": "completed"
    },
    "tags": []
   },
   "outputs": [],
   "source": [
    "import tensorflow as tf\n",
    "import matplotlib.pyplot as plt"
   ]
  },
  {
   "cell_type": "code",
   "execution_count": 3,
   "id": "490268fd",
   "metadata": {
    "execution": {
     "iopub.execute_input": "2023-04-08T20:31:22.168342Z",
     "iopub.status.busy": "2023-04-08T20:31:22.167334Z",
     "iopub.status.idle": "2023-04-08T20:31:22.228558Z",
     "shell.execute_reply": "2023-04-08T20:31:22.227376Z"
    },
    "papermill": {
     "duration": 0.070961,
     "end_time": "2023-04-08T20:31:22.231634",
     "exception": false,
     "start_time": "2023-04-08T20:31:22.160673",
     "status": "completed"
    },
    "tags": []
   },
   "outputs": [],
   "source": [
    "df = pd.read_csv('../input/nlp-getting-started/train.csv')"
   ]
  },
  {
   "cell_type": "code",
   "execution_count": 4,
   "id": "7608802b",
   "metadata": {
    "execution": {
     "iopub.execute_input": "2023-04-08T20:31:22.244395Z",
     "iopub.status.busy": "2023-04-08T20:31:22.243778Z",
     "iopub.status.idle": "2023-04-08T20:31:22.277925Z",
     "shell.execute_reply": "2023-04-08T20:31:22.275561Z"
    },
    "papermill": {
     "duration": 0.045986,
     "end_time": "2023-04-08T20:31:22.283279",
     "exception": false,
     "start_time": "2023-04-08T20:31:22.237293",
     "status": "completed"
    },
    "tags": []
   },
   "outputs": [
    {
     "data": {
      "text/html": [
       "<div>\n",
       "<style scoped>\n",
       "    .dataframe tbody tr th:only-of-type {\n",
       "        vertical-align: middle;\n",
       "    }\n",
       "\n",
       "    .dataframe tbody tr th {\n",
       "        vertical-align: top;\n",
       "    }\n",
       "\n",
       "    .dataframe thead th {\n",
       "        text-align: right;\n",
       "    }\n",
       "</style>\n",
       "<table border=\"1\" class=\"dataframe\">\n",
       "  <thead>\n",
       "    <tr style=\"text-align: right;\">\n",
       "      <th></th>\n",
       "      <th>id</th>\n",
       "      <th>keyword</th>\n",
       "      <th>location</th>\n",
       "      <th>text</th>\n",
       "      <th>target</th>\n",
       "    </tr>\n",
       "  </thead>\n",
       "  <tbody>\n",
       "    <tr>\n",
       "      <th>0</th>\n",
       "      <td>1</td>\n",
       "      <td>NaN</td>\n",
       "      <td>NaN</td>\n",
       "      <td>Our Deeds are the Reason of this #earthquake M...</td>\n",
       "      <td>1</td>\n",
       "    </tr>\n",
       "    <tr>\n",
       "      <th>1</th>\n",
       "      <td>4</td>\n",
       "      <td>NaN</td>\n",
       "      <td>NaN</td>\n",
       "      <td>Forest fire near La Ronge Sask. Canada</td>\n",
       "      <td>1</td>\n",
       "    </tr>\n",
       "    <tr>\n",
       "      <th>2</th>\n",
       "      <td>5</td>\n",
       "      <td>NaN</td>\n",
       "      <td>NaN</td>\n",
       "      <td>All residents asked to 'shelter in place' are ...</td>\n",
       "      <td>1</td>\n",
       "    </tr>\n",
       "    <tr>\n",
       "      <th>3</th>\n",
       "      <td>6</td>\n",
       "      <td>NaN</td>\n",
       "      <td>NaN</td>\n",
       "      <td>13,000 people receive #wildfires evacuation or...</td>\n",
       "      <td>1</td>\n",
       "    </tr>\n",
       "    <tr>\n",
       "      <th>4</th>\n",
       "      <td>7</td>\n",
       "      <td>NaN</td>\n",
       "      <td>NaN</td>\n",
       "      <td>Just got sent this photo from Ruby #Alaska as ...</td>\n",
       "      <td>1</td>\n",
       "    </tr>\n",
       "  </tbody>\n",
       "</table>\n",
       "</div>"
      ],
      "text/plain": [
       "   id keyword location                                               text  \\\n",
       "0   1     NaN      NaN  Our Deeds are the Reason of this #earthquake M...   \n",
       "1   4     NaN      NaN             Forest fire near La Ronge Sask. Canada   \n",
       "2   5     NaN      NaN  All residents asked to 'shelter in place' are ...   \n",
       "3   6     NaN      NaN  13,000 people receive #wildfires evacuation or...   \n",
       "4   7     NaN      NaN  Just got sent this photo from Ruby #Alaska as ...   \n",
       "\n",
       "   target  \n",
       "0       1  \n",
       "1       1  \n",
       "2       1  \n",
       "3       1  \n",
       "4       1  "
      ]
     },
     "execution_count": 4,
     "metadata": {},
     "output_type": "execute_result"
    }
   ],
   "source": [
    "df.head()"
   ]
  },
  {
   "cell_type": "code",
   "execution_count": 5,
   "id": "2ee54f13",
   "metadata": {
    "execution": {
     "iopub.execute_input": "2023-04-08T20:31:22.297135Z",
     "iopub.status.busy": "2023-04-08T20:31:22.296764Z",
     "iopub.status.idle": "2023-04-08T20:31:22.635632Z",
     "shell.execute_reply": "2023-04-08T20:31:22.634349Z"
    },
    "papermill": {
     "duration": 0.348686,
     "end_time": "2023-04-08T20:31:22.638492",
     "exception": false,
     "start_time": "2023-04-08T20:31:22.289806",
     "status": "completed"
    },
    "tags": []
   },
   "outputs": [
    {
     "data": {
      "text/plain": [
       "31"
      ]
     },
     "execution_count": 5,
     "metadata": {},
     "output_type": "execute_result"
    },
    {
     "data": {
      "image/png": "[encoded data removed]",
      "text/plain": [
       "<Figure size 640x480 with 1 Axes>"
      ]
     },
     "metadata": {},
     "output_type": "display_data"
    }
   ],
   "source": [
    "x = df.text.apply(str.split).apply(len)\n",
    "x.hist()\n",
    "plt.show\n",
    "x.max()"
   ]
  },
  {
   "cell_type": "code",
   "execution_count": 6,
   "id": "799d9194",
   "metadata": {
    "execution": {
     "iopub.execute_input": "2023-04-08T20:31:22.653623Z",
     "iopub.status.busy": "2023-04-08T20:31:22.653214Z",
     "iopub.status.idle": "2023-04-08T20:31:22.658003Z",
     "shell.execute_reply": "2023-04-08T20:31:22.656925Z"
    },
    "papermill": {
     "duration": 0.014735,
     "end_time": "2023-04-08T20:31:22.660139",
     "exception": false,
     "start_time": "2023-04-08T20:31:22.645404",
     "status": "completed"
    },
    "tags": []
   },
   "outputs": [],
   "source": [
    "#X_train = df.text.apply(lambda x:\"\".join(ch.lower() for ch in x if ch.isalnum() or ch == \" \"))"
   ]
  },
  {
   "cell_type": "code",
   "execution_count": 7,
   "id": "9ff2777d",
   "metadata": {
    "execution": {
     "iopub.execute_input": "2023-04-08T20:31:22.674723Z",
     "iopub.status.busy": "2023-04-08T20:31:22.674343Z",
     "iopub.status.idle": "2023-04-08T20:31:22.744544Z",
     "shell.execute_reply": "2023-04-08T20:31:22.743580Z"
    },
    "papermill": {
     "duration": 0.080665,
     "end_time": "2023-04-08T20:31:22.747063",
     "exception": false,
     "start_time": "2023-04-08T20:31:22.666398",
     "status": "completed"
    },
    "tags": []
   },
   "outputs": [],
   "source": [
    "stop_words = [ 'stop', 'the', 'to', 'and', 'a', 'in', 'it', 'is', 'i', 'that', 'had', 'on', 'for', 'were', 'was', 'of', 'as', 'are'] # mostly from NLTK\n",
    "df.text = df.text.str.lower()\n",
    "df.text = df.text.apply(lambda x: \" \".join(word for word in x.split(\" \") if word not in stop_words))"
   ]
  },
  {
   "cell_type": "code",
   "execution_count": 8,
   "id": "8e2eee34",
   "metadata": {
    "execution": {
     "iopub.execute_input": "2023-04-08T20:31:22.761973Z",
     "iopub.status.busy": "2023-04-08T20:31:22.761522Z",
     "iopub.status.idle": "2023-04-08T20:31:22.770175Z",
     "shell.execute_reply": "2023-04-08T20:31:22.768876Z"
    },
    "papermill": {
     "duration": 0.018784,
     "end_time": "2023-04-08T20:31:22.772306",
     "exception": false,
     "start_time": "2023-04-08T20:31:22.753522",
     "status": "completed"
    },
    "tags": []
   },
   "outputs": [
    {
     "data": {
      "text/plain": [
       "0    our deeds reason this #earthquake may allah fo...\n",
       "1               forest fire near la ronge sask. canada\n",
       "2    all residents asked 'shelter place' being noti...\n",
       "3    13,000 people receive #wildfires evacuation or...\n",
       "4    just got sent this photo from ruby #alaska smo...\n",
       "Name: text, dtype: object"
      ]
     },
     "execution_count": 8,
     "metadata": {},
     "output_type": "execute_result"
    }
   ],
   "source": [
    "df.text.head()"
   ]
  },
  {
   "cell_type": "code",
   "execution_count": 9,
   "id": "61f2403a",
   "metadata": {
    "execution": {
     "iopub.execute_input": "2023-04-08T20:31:22.787191Z",
     "iopub.status.busy": "2023-04-08T20:31:22.786568Z",
     "iopub.status.idle": "2023-04-08T20:31:22.801494Z",
     "shell.execute_reply": "2023-04-08T20:31:22.800353Z"
    },
    "papermill": {
     "duration": 0.024918,
     "end_time": "2023-04-08T20:31:22.803637",
     "exception": false,
     "start_time": "2023-04-08T20:31:22.778719",
     "status": "completed"
    },
    "tags": []
   },
   "outputs": [
    {
     "data": {
      "text/plain": [
       "((6090, 5), (1523, 5))"
      ]
     },
     "execution_count": 9,
     "metadata": {},
     "output_type": "execute_result"
    }
   ],
   "source": [
    "train = df.sample(frac=0.8, replace=False, random_state=42)\n",
    "df.index.drop(train.index)\n",
    "test = df.loc[df.index.drop(train.index)]\n",
    "train.shape, test.shape"
   ]
  },
  {
   "cell_type": "code",
   "execution_count": 10,
   "id": "b953f3ac",
   "metadata": {
    "execution": {
     "iopub.execute_input": "2023-04-08T20:31:22.818649Z",
     "iopub.status.busy": "2023-04-08T20:31:22.817965Z",
     "iopub.status.idle": "2023-04-08T20:31:22.825824Z",
     "shell.execute_reply": "2023-04-08T20:31:22.825082Z"
    },
    "papermill": {
     "duration": 0.017667,
     "end_time": "2023-04-08T20:31:22.827925",
     "exception": false,
     "start_time": "2023-04-08T20:31:22.810258",
     "status": "completed"
    },
    "tags": []
   },
   "outputs": [
    {
     "data": {
      "text/plain": [
       "((6090,), (6090,), (1523,), (1523,))"
      ]
     },
     "execution_count": 10,
     "metadata": {},
     "output_type": "execute_result"
    }
   ],
   "source": [
    "X_train = train.text.values.flatten()\n",
    "y_train = train.target.values.flatten()\n",
    "X_test = test.text.values.flatten()\n",
    "y_test = test.target.values.flatten()\n",
    "X_train.shape, y_train.shape, X_test.shape, y_test.shape"
   ]
  },
  {
   "cell_type": "code",
   "execution_count": 11,
   "id": "f866ba79",
   "metadata": {
    "execution": {
     "iopub.execute_input": "2023-04-08T20:31:22.843987Z",
     "iopub.status.busy": "2023-04-08T20:31:22.843283Z",
     "iopub.status.idle": "2023-04-08T20:31:22.849427Z",
     "shell.execute_reply": "2023-04-08T20:31:22.848667Z"
    },
    "papermill": {
     "duration": 0.016912,
     "end_time": "2023-04-08T20:31:22.851342",
     "exception": false,
     "start_time": "2023-04-08T20:31:22.834430",
     "status": "completed"
    },
    "tags": []
   },
   "outputs": [],
   "source": [
    "from tensorflow.keras.layers import TextVectorization\n",
    "from tensorflow.keras import Sequential\n",
    "from tensorflow.keras.layers import Embedding, LSTM, Dense, Dropout\n",
    "from tensorflow.keras.callbacks import EarlyStopping"
   ]
  },
  {
   "cell_type": "code",
   "execution_count": 12,
   "id": "2d227b22",
   "metadata": {
    "execution": {
     "iopub.execute_input": "2023-04-08T20:31:22.865610Z",
     "iopub.status.busy": "2023-04-08T20:31:22.864980Z",
     "iopub.status.idle": "2023-04-08T20:31:23.713933Z",
     "shell.execute_reply": "2023-04-08T20:31:23.712378Z"
    },
    "papermill": {
     "duration": 0.859362,
     "end_time": "2023-04-08T20:31:23.717039",
     "exception": false,
     "start_time": "2023-04-08T20:31:22.857677",
     "status": "completed"
    },
    "tags": []
   },
   "outputs": [],
   "source": [
    "tokens = 2000\n",
    "encoder=TextVectorization(max_tokens=tokens, \n",
    "                          standardize='lower',\n",
    "                          split='whitespace',\n",
    "                          ngrams=2,\n",
    "                          output_mode='int')\n",
    "encoder.adapt(X_train)\n",
    "callback=EarlyStopping(monitor='val_loss', patience = 3, restore_best_weights=False, start_from_epoch=5)"
   ]
  },
  {
   "cell_type": "code",
   "execution_count": 13,
   "id": "1755e26d",
   "metadata": {
    "execution": {
     "iopub.execute_input": "2023-04-08T20:31:23.731869Z",
     "iopub.status.busy": "2023-04-08T20:31:23.731469Z",
     "iopub.status.idle": "2023-04-08T20:31:23.746661Z",
     "shell.execute_reply": "2023-04-08T20:31:23.745163Z"
    },
    "papermill": {
     "duration": 0.02546,
     "end_time": "2023-04-08T20:31:23.749029",
     "exception": false,
     "start_time": "2023-04-08T20:31:23.723569",
     "status": "completed"
    },
    "tags": []
   },
   "outputs": [
    {
     "data": {
      "text/plain": [
       "['', '[UNK]', '-', 'you', 'my', 'with', 'by', 'at', 'this', 'from']"
      ]
     },
     "execution_count": 13,
     "metadata": {},
     "output_type": "execute_result"
    }
   ],
   "source": [
    "encoder.get_vocabulary()[:10]"
   ]
  },
  {
   "cell_type": "code",
   "execution_count": 14,
   "id": "124a0277",
   "metadata": {
    "execution": {
     "iopub.execute_input": "2023-04-08T20:31:23.764205Z",
     "iopub.status.busy": "2023-04-08T20:31:23.763844Z",
     "iopub.status.idle": "2023-04-08T20:31:25.132451Z",
     "shell.execute_reply": "2023-04-08T20:31:25.131123Z"
    },
    "papermill": {
     "duration": 1.388282,
     "end_time": "2023-04-08T20:31:25.144029",
     "exception": false,
     "start_time": "2023-04-08T20:31:23.755747",
     "status": "completed"
    },
    "tags": []
   },
   "outputs": [
    {
     "name": "stdout",
     "output_type": "stream",
     "text": [
      "Model: \"sequential\"\n",
      "_________________________________________________________________\n",
      " Layer (type)                Output Shape              Param #   \n",
      "=================================================================\n",
      " text_vectorization (TextVec  (None, None)             0         \n",
      " torization)                                                     \n",
      "                                                                 \n",
      " embedding (Embedding)       (None, None, 40)          80000     \n",
      "                                                                 \n",
      " lstm (LSTM)                 (None, 31)                8928      \n",
      "                                                                 \n",
      " dense (Dense)               (None, 20)                640       \n",
      "                                                                 \n",
      " dropout (Dropout)           (None, 20)                0         \n",
      "                                                                 \n",
      " dense_1 (Dense)             (None, 20)                420       \n",
      "                                                                 \n",
      " dropout_1 (Dropout)         (None, 20)                0         \n",
      "                                                                 \n",
      " dense_2 (Dense)             (None, 1)                 21        \n",
      "                                                                 \n",
      "=================================================================\n",
      "Total params: 90,009\n",
      "Trainable params: 90,009\n",
      "Non-trainable params: 0\n",
      "_________________________________________________________________\n"
     ]
    }
   ],
   "source": [
    "model = Sequential([\n",
    "    encoder,\n",
    "    Embedding(input_dim=len(encoder.get_vocabulary()), mask_zero=True, output_dim = 40),\n",
    "    LSTM(31, return_sequences=False),\n",
    "    Dense(20, activation='relu'),\n",
    "    Dropout(rate=0.2),\n",
    "    Dense(20, activation='relu'),\n",
    "    Dropout(rate=0.2),\n",
    "    Dense(1, activation='sigmoid')\n",
    "])\n",
    "model.compile(loss=tf.keras.losses.BinaryCrossentropy(),\n",
    "              optimizer=tf.keras.optimizers.Adam(1e-4),\n",
    "              metrics=['accuracy'])\n",
    "model.summary()"
   ]
  },
  {
   "cell_type": "code",
   "execution_count": 15,
   "id": "02bfe416",
   "metadata": {
    "execution": {
     "iopub.execute_input": "2023-04-08T20:31:25.162129Z",
     "iopub.status.busy": "2023-04-08T20:31:25.161381Z",
     "iopub.status.idle": "2023-04-08T20:32:27.000171Z",
     "shell.execute_reply": "2023-04-08T20:32:26.999247Z"
    },
    "papermill": {
     "duration": 61.850698,
     "end_time": "2023-04-08T20:32:27.002699",
     "exception": false,
     "start_time": "2023-04-08T20:31:25.152001",
     "status": "completed"
    },
    "tags": []
   },
   "outputs": [
    {
     "name": "stdout",
     "output_type": "stream",
     "text": [
      "Epoch 1/15\n",
      "191/191 [==============================] - 12s 35ms/step - loss: 0.6872 - accuracy: 0.5635 - val_loss: 0.6821 - val_accuracy: 0.5706\n",
      "Epoch 2/15\n",
      "191/191 [==============================] - 5s 26ms/step - loss: 0.6808 - accuracy: 0.5703 - val_loss: 0.6770 - val_accuracy: 0.5706\n",
      "Epoch 3/15\n",
      "191/191 [==============================] - 5s 26ms/step - loss: 0.6584 - accuracy: 0.6146 - val_loss: 0.6095 - val_accuracy: 0.7328\n",
      "Epoch 4/15\n",
      "191/191 [==============================] - 5s 26ms/step - loss: 0.5449 - accuracy: 0.7859 - val_loss: 0.5360 - val_accuracy: 0.7623\n",
      "Epoch 5/15\n",
      "191/191 [==============================] - 5s 26ms/step - loss: 0.4678 - accuracy: 0.8182 - val_loss: 0.5326 - val_accuracy: 0.7544\n",
      "Epoch 6/15\n",
      "191/191 [==============================] - 5s 27ms/step - loss: 0.4417 - accuracy: 0.8338 - val_loss: 0.5255 - val_accuracy: 0.7682\n",
      "Epoch 7/15\n",
      "191/191 [==============================] - 5s 27ms/step - loss: 0.4188 - accuracy: 0.8456 - val_loss: 0.5303 - val_accuracy: 0.7722\n",
      "Epoch 8/15\n",
      "191/191 [==============================] - 5s 26ms/step - loss: 0.3981 - accuracy: 0.8504 - val_loss: 0.5232 - val_accuracy: 0.7676\n",
      "Epoch 9/15\n",
      "191/191 [==============================] - 5s 26ms/step - loss: 0.3839 - accuracy: 0.8573 - val_loss: 0.5403 - val_accuracy: 0.7663\n",
      "Epoch 10/15\n",
      "191/191 [==============================] - 5s 26ms/step - loss: 0.3706 - accuracy: 0.8622 - val_loss: 0.5467 - val_accuracy: 0.7695\n",
      "Epoch 11/15\n",
      "191/191 [==============================] - 5s 26ms/step - loss: 0.3622 - accuracy: 0.8670 - val_loss: 0.5495 - val_accuracy: 0.7656\n"
     ]
    }
   ],
   "source": [
    "history = model.fit(X_train, \n",
    "          y_train,\n",
    "          batch_size=32,\n",
    "          validation_data = (X_test, y_test),\n",
    "          epochs=15,\n",
    "          callbacks=[callback])"
   ]
  },
  {
   "cell_type": "code",
   "execution_count": 16,
   "id": "b50498d2",
   "metadata": {
    "execution": {
     "iopub.execute_input": "2023-04-08T20:32:27.122980Z",
     "iopub.status.busy": "2023-04-08T20:32:27.121964Z",
     "iopub.status.idle": "2023-04-08T20:32:51.932895Z",
     "shell.execute_reply": "2023-04-08T20:32:51.931992Z"
    },
    "papermill": {
     "duration": 24.874051,
     "end_time": "2023-04-08T20:32:51.935127",
     "exception": false,
     "start_time": "2023-04-08T20:32:27.061076",
     "status": "completed"
    },
    "tags": []
   },
   "outputs": [
    {
     "data": {
      "image/png": "[encoded data removed]",
      "text/plain": [
       "<Figure size 640x480 with 1 Axes>"
      ]
     },
     "metadata": {},
     "output_type": "display_data"
    }
   ],
   "source": [
    "n = len(history.history['accuracy'])\n",
    "plt.plot(range(n), history.history['accuracy'])\n",
    "plt.plot(range(n), history.history['val_accuracy'])\n",
    "plt.show()"
   ]
  },
  {
   "cell_type": "code",
   "execution_count": 17,
   "id": "4261a979",
   "metadata": {
    "execution": {
     "iopub.execute_input": "2023-04-08T20:32:52.053712Z",
     "iopub.status.busy": "2023-04-08T20:32:52.053001Z",
     "iopub.status.idle": "2023-04-08T20:32:52.057149Z",
     "shell.execute_reply": "2023-04-08T20:32:52.056394Z"
    },
    "papermill": {
     "duration": 0.065456,
     "end_time": "2023-04-08T20:32:52.059269",
     "exception": false,
     "start_time": "2023-04-08T20:32:51.993813",
     "status": "completed"
    },
    "tags": []
   },
   "outputs": [],
   "source": [
    "best_model = history.model"
   ]
  },
  {
   "cell_type": "code",
   "execution_count": 18,
   "id": "4a8abadb",
   "metadata": {
    "execution": {
     "iopub.execute_input": "2023-04-08T20:32:52.180620Z",
     "iopub.status.busy": "2023-04-08T20:32:52.179521Z",
     "iopub.status.idle": "2023-04-08T20:32:52.241068Z",
     "shell.execute_reply": "2023-04-08T20:32:52.239965Z"
    },
    "papermill": {
     "duration": 0.124002,
     "end_time": "2023-04-08T20:32:52.243331",
     "exception": false,
     "start_time": "2023-04-08T20:32:52.119329",
     "status": "completed"
    },
    "tags": []
   },
   "outputs": [
    {
     "data": {
      "text/plain": [
       "((3263, 4), (3263,))"
      ]
     },
     "execution_count": 18,
     "metadata": {},
     "output_type": "execute_result"
    }
   ],
   "source": [
    "test_df = pd.read_csv('../input/nlp-getting-started/test.csv')\n",
    "test_df.text = df.text.str.lower()\n",
    "test_df.text = test_df.text.apply(lambda x: \" \".join(word for word in x.split(\" \") if word not in stop_words))\n",
    "test = test_df.text.values.flatten()\n",
    "test_df.shape, test.shape"
   ]
  },
  {
   "cell_type": "code",
   "execution_count": 19,
   "id": "246f3763",
   "metadata": {
    "execution": {
     "iopub.execute_input": "2023-04-08T20:32:52.366623Z",
     "iopub.status.busy": "2023-04-08T20:32:52.365463Z",
     "iopub.status.idle": "2023-04-08T20:32:54.608497Z",
     "shell.execute_reply": "2023-04-08T20:32:54.607523Z"
    },
    "papermill": {
     "duration": 2.305051,
     "end_time": "2023-04-08T20:32:54.611016",
     "exception": false,
     "start_time": "2023-04-08T20:32:52.305965",
     "status": "completed"
    },
    "tags": []
   },
   "outputs": [
    {
     "name": "stdout",
     "output_type": "stream",
     "text": [
      "102/102 [==============================] - 2s 7ms/step\n"
     ]
    }
   ],
   "source": [
    "yhat = best_model.predict(test)"
   ]
  },
  {
   "cell_type": "code",
   "execution_count": 20,
   "id": "888de358",
   "metadata": {
    "execution": {
     "iopub.execute_input": "2023-04-08T20:32:54.732964Z",
     "iopub.status.busy": "2023-04-08T20:32:54.732176Z",
     "iopub.status.idle": "2023-04-08T20:32:54.749322Z",
     "shell.execute_reply": "2023-04-08T20:32:54.748392Z"
    },
    "papermill": {
     "duration": 0.080885,
     "end_time": "2023-04-08T20:32:54.751755",
     "exception": false,
     "start_time": "2023-04-08T20:32:54.670870",
     "status": "completed"
    },
    "tags": []
   },
   "outputs": [],
   "source": [
    "submission = test_df[['id']].copy()\n",
    "submission['target'] = np.round(yhat,0)\n",
    "submission.target = submission.target.astype(int)\n",
    "submission.to_csv('submission.csv', index=False)"
   ]
  },
  {
   "cell_type": "code",
   "execution_count": 21,
   "id": "62337822",
   "metadata": {
    "execution": {
     "iopub.execute_input": "2023-04-08T20:32:54.873550Z",
     "iopub.status.busy": "2023-04-08T20:32:54.872838Z",
     "iopub.status.idle": "2023-04-08T20:32:54.885820Z",
     "shell.execute_reply": "2023-04-08T20:32:54.884735Z"
    },
    "papermill": {
     "duration": 0.076613,
     "end_time": "2023-04-08T20:32:54.888227",
     "exception": false,
     "start_time": "2023-04-08T20:32:54.811614",
     "status": "completed"
    },
    "tags": []
   },
   "outputs": [
    {
     "data": {
      "text/html": [
       "<div>\n",
       "<style scoped>\n",
       "    .dataframe tbody tr th:only-of-type {\n",
       "        vertical-align: middle;\n",
       "    }\n",
       "\n",
       "    .dataframe tbody tr th {\n",
       "        vertical-align: top;\n",
       "    }\n",
       "\n",
       "    .dataframe thead th {\n",
       "        text-align: right;\n",
       "    }\n",
       "</style>\n",
       "<table border=\"1\" class=\"dataframe\">\n",
       "  <thead>\n",
       "    <tr style=\"text-align: right;\">\n",
       "      <th></th>\n",
       "      <th>id</th>\n",
       "      <th>target</th>\n",
       "    </tr>\n",
       "  </thead>\n",
       "  <tbody>\n",
       "    <tr>\n",
       "      <th>0</th>\n",
       "      <td>0</td>\n",
       "      <td>1</td>\n",
       "    </tr>\n",
       "    <tr>\n",
       "      <th>1</th>\n",
       "      <td>2</td>\n",
       "      <td>1</td>\n",
       "    </tr>\n",
       "    <tr>\n",
       "      <th>2</th>\n",
       "      <td>3</td>\n",
       "      <td>1</td>\n",
       "    </tr>\n",
       "    <tr>\n",
       "      <th>3</th>\n",
       "      <td>9</td>\n",
       "      <td>1</td>\n",
       "    </tr>\n",
       "    <tr>\n",
       "      <th>4</th>\n",
       "      <td>11</td>\n",
       "      <td>0</td>\n",
       "    </tr>\n",
       "  </tbody>\n",
       "</table>\n",
       "</div>"
      ],
      "text/plain": [
       "   id  target\n",
       "0   0       1\n",
       "1   2       1\n",
       "2   3       1\n",
       "3   9       1\n",
       "4  11       0"
      ]
     },
     "execution_count": 21,
     "metadata": {},
     "output_type": "execute_result"
    }
   ],
   "source": [
    "pd.read_csv('submission.csv').head()"
   ]
  },
  {
   "cell_type": "code",
   "execution_count": null,
   "id": "9960a165",
   "metadata": {
    "papermill": {
     "duration": 0.0596,
     "end_time": "2023-04-08T20:32:55.008563",
     "exception": false,
     "start_time": "2023-04-08T20:32:54.948963",
     "status": "completed"
    },
    "tags": []
   },
   "outputs": [],
   "source": []
  }
 ],
 "metadata": {
  "kernelspec": {
   "display_name": "Python 3",
   "language": "python",
   "name": "python3"
  },
  "language_info": {
   "codemirror_mode": {
    "name": "ipython",
    "version": 3
   },
   "file_extension": ".py",
   "mimetype": "text/x-python",
   "name": "python",
   "nbconvert_exporter": "python",
   "pygments_lexer": "ipython3",
   "version": "3.7.12"
  },
  "papermill": {
   "default_parameters": {},
   "duration": 113.658008,
   "end_time": "2023-04-08T20:32:57.933611",
   "environment_variables": {},
   "exception": null,
   "input_path": "__notebook__.ipynb",
   "output_path": "__notebook__.ipynb",
   "parameters": {},
   "start_time": "2023-04-08T20:31:04.275603",
   "version": "2.4.0"
  }
 },
 "nbformat": 4,
 "nbformat_minor": 5
}
