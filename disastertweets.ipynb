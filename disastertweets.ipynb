{
 "cells": [
  {
   "cell_type": "code",
   "execution_count": 1,
   "id": "c7cf5ed7",
   "metadata": {
    "_cell_guid": "b1076dfc-b9ad-4769-8c92-a6c4dae69d19",
    "_uuid": "8f2839f25d086af736a60e9eeb907d3b93b6e0e5",
    "execution": {
     "iopub.execute_input": "2023-04-07T23:13:09.635420Z",
     "iopub.status.busy": "2023-04-07T23:13:09.635077Z",
     "iopub.status.idle": "2023-04-07T23:13:09.646234Z",
     "shell.execute_reply": "2023-04-07T23:13:09.645376Z"
    },
    "papermill": {
     "duration": 0.020766,
     "end_time": "2023-04-07T23:13:09.648446",
     "exception": false,
     "start_time": "2023-04-07T23:13:09.627680",
     "status": "completed"
    },
    "tags": []
   },
   "outputs": [
    {
     "name": "stdout",
     "output_type": "stream",
     "text": [
      "/kaggle/input/nlp-getting-started/sample_submission.csv\n",
      "/kaggle/input/nlp-getting-started/train.csv\n",
      "/kaggle/input/nlp-getting-started/test.csv\n"
     ]
    }
   ],
   "source": [
    "# This Python 3 environment comes with many helpful analytics libraries installed\n",
    "# It is defined by the kaggle/python Docker image: https://github.com/kaggle/docker-python\n",
    "# For example, here's several helpful packages to load\n",
    "\n",
    "import numpy as np # linear algebra\n",
    "import pandas as pd # data processing, CSV file I/O (e.g. pd.read_csv)\n",
    "\n",
    "# Input data files are available in the read-only \"../input/\" directory\n",
    "# For example, running this (by clicking run or pressing Shift+Enter) will list all files under the input directory\n",
    "\n",
    "import os\n",
    "for dirname, _, filenames in os.walk('/kaggle/input'):\n",
    "    for filename in filenames:\n",
    "        print(os.path.join(dirname, filename))\n",
    "\n",
    "# You can write up to 20GB to the current directory (/kaggle/working/) that gets preserved as output when you create a version using \"Save & Run All\" \n",
    "# You can also write temporary files to /kaggle/temp/, but they won't be saved outside of the current session"
   ]
  },
  {
   "cell_type": "code",
   "execution_count": 2,
   "id": "3adf0103",
   "metadata": {
    "execution": {
     "iopub.execute_input": "2023-04-07T23:13:09.660062Z",
     "iopub.status.busy": "2023-04-07T23:13:09.659487Z",
     "iopub.status.idle": "2023-04-07T23:13:17.154790Z",
     "shell.execute_reply": "2023-04-07T23:13:17.153691Z"
    },
    "papermill": {
     "duration": 7.503717,
     "end_time": "2023-04-07T23:13:17.157344",
     "exception": false,
     "start_time": "2023-04-07T23:13:09.653627",
     "status": "completed"
    },
    "tags": []
   },
   "outputs": [],
   "source": [
    "import tensorflow as tf\n",
    "import matplotlib.pyplot as plt"
   ]
  },
  {
   "cell_type": "code",
   "execution_count": 3,
   "id": "74814894",
   "metadata": {
    "execution": {
     "iopub.execute_input": "2023-04-07T23:13:17.169150Z",
     "iopub.status.busy": "2023-04-07T23:13:17.168560Z",
     "iopub.status.idle": "2023-04-07T23:13:17.220857Z",
     "shell.execute_reply": "2023-04-07T23:13:17.220104Z"
    },
    "papermill": {
     "duration": 0.060724,
     "end_time": "2023-04-07T23:13:17.223220",
     "exception": false,
     "start_time": "2023-04-07T23:13:17.162496",
     "status": "completed"
    },
    "tags": []
   },
   "outputs": [],
   "source": [
    "df = pd.read_csv('../input/nlp-getting-started/train.csv')"
   ]
  },
  {
   "cell_type": "code",
   "execution_count": 4,
   "id": "a7cccca0",
   "metadata": {
    "execution": {
     "iopub.execute_input": "2023-04-07T23:13:17.235498Z",
     "iopub.status.busy": "2023-04-07T23:13:17.234947Z",
     "iopub.status.idle": "2023-04-07T23:13:17.258509Z",
     "shell.execute_reply": "2023-04-07T23:13:17.257664Z"
    },
    "papermill": {
     "duration": 0.032808,
     "end_time": "2023-04-07T23:13:17.261464",
     "exception": false,
     "start_time": "2023-04-07T23:13:17.228656",
     "status": "completed"
    },
    "tags": []
   },
   "outputs": [
    {
     "data": {
      "text/html": [
       "<div>\n",
       "<style scoped>\n",
       "    .dataframe tbody tr th:only-of-type {\n",
       "        vertical-align: middle;\n",
       "    }\n",
       "\n",
       "    .dataframe tbody tr th {\n",
       "        vertical-align: top;\n",
       "    }\n",
       "\n",
       "    .dataframe thead th {\n",
       "        text-align: right;\n",
       "    }\n",
       "</style>\n",
       "<table border=\"1\" class=\"dataframe\">\n",
       "  <thead>\n",
       "    <tr style=\"text-align: right;\">\n",
       "      <th></th>\n",
       "      <th>id</th>\n",
       "      <th>keyword</th>\n",
       "      <th>location</th>\n",
       "      <th>text</th>\n",
       "      <th>target</th>\n",
       "    </tr>\n",
       "  </thead>\n",
       "  <tbody>\n",
       "    <tr>\n",
       "      <th>0</th>\n",
       "      <td>1</td>\n",
       "      <td>NaN</td>\n",
       "      <td>NaN</td>\n",
       "      <td>Our Deeds are the Reason of this #earthquake M...</td>\n",
       "      <td>1</td>\n",
       "    </tr>\n",
       "    <tr>\n",
       "      <th>1</th>\n",
       "      <td>4</td>\n",
       "      <td>NaN</td>\n",
       "      <td>NaN</td>\n",
       "      <td>Forest fire near La Ronge Sask. Canada</td>\n",
       "      <td>1</td>\n",
       "    </tr>\n",
       "    <tr>\n",
       "      <th>2</th>\n",
       "      <td>5</td>\n",
       "      <td>NaN</td>\n",
       "      <td>NaN</td>\n",
       "      <td>All residents asked to 'shelter in place' are ...</td>\n",
       "      <td>1</td>\n",
       "    </tr>\n",
       "    <tr>\n",
       "      <th>3</th>\n",
       "      <td>6</td>\n",
       "      <td>NaN</td>\n",
       "      <td>NaN</td>\n",
       "      <td>13,000 people receive #wildfires evacuation or...</td>\n",
       "      <td>1</td>\n",
       "    </tr>\n",
       "    <tr>\n",
       "      <th>4</th>\n",
       "      <td>7</td>\n",
       "      <td>NaN</td>\n",
       "      <td>NaN</td>\n",
       "      <td>Just got sent this photo from Ruby #Alaska as ...</td>\n",
       "      <td>1</td>\n",
       "    </tr>\n",
       "  </tbody>\n",
       "</table>\n",
       "</div>"
      ],
      "text/plain": [
       "   id keyword location                                               text  \\\n",
       "0   1     NaN      NaN  Our Deeds are the Reason of this #earthquake M...   \n",
       "1   4     NaN      NaN             Forest fire near La Ronge Sask. Canada   \n",
       "2   5     NaN      NaN  All residents asked to 'shelter in place' are ...   \n",
       "3   6     NaN      NaN  13,000 people receive #wildfires evacuation or...   \n",
       "4   7     NaN      NaN  Just got sent this photo from Ruby #Alaska as ...   \n",
       "\n",
       "   target  \n",
       "0       1  \n",
       "1       1  \n",
       "2       1  \n",
       "3       1  \n",
       "4       1  "
      ]
     },
     "execution_count": 4,
     "metadata": {},
     "output_type": "execute_result"
    }
   ],
   "source": [
    "df.head()"
   ]
  },
  {
   "cell_type": "code",
   "execution_count": 5,
   "id": "8263f806",
   "metadata": {
    "execution": {
     "iopub.execute_input": "2023-04-07T23:13:17.274041Z",
     "iopub.status.busy": "2023-04-07T23:13:17.273691Z",
     "iopub.status.idle": "2023-04-07T23:13:17.529011Z",
     "shell.execute_reply": "2023-04-07T23:13:17.527728Z"
    },
    "papermill": {
     "duration": 0.264517,
     "end_time": "2023-04-07T23:13:17.531305",
     "exception": false,
     "start_time": "2023-04-07T23:13:17.266788",
     "status": "completed"
    },
    "tags": []
   },
   "outputs": [
    {
     "data": {
      "text/plain": [
       "31"
      ]
     },
     "execution_count": 5,
     "metadata": {},
     "output_type": "execute_result"
    },
    {
     "data": {
      "image/png": "[encoded data removed]",
      "text/plain": [
       "<Figure size 640x480 with 1 Axes>"
      ]
     },
     "metadata": {},
     "output_type": "display_data"
    }
   ],
   "source": [
    "x = df.text.apply(str.split).apply(len)\n",
    "x.hist()\n",
    "plt.show\n",
    "x.max()"
   ]
  },
  {
   "cell_type": "code",
   "execution_count": 6,
   "id": "06dcaf4a",
   "metadata": {
    "execution": {
     "iopub.execute_input": "2023-04-07T23:13:17.544638Z",
     "iopub.status.busy": "2023-04-07T23:13:17.543448Z",
     "iopub.status.idle": "2023-04-07T23:13:17.547847Z",
     "shell.execute_reply": "2023-04-07T23:13:17.547161Z"
    },
    "papermill": {
     "duration": 0.012761,
     "end_time": "2023-04-07T23:13:17.549685",
     "exception": false,
     "start_time": "2023-04-07T23:13:17.536924",
     "status": "completed"
    },
    "tags": []
   },
   "outputs": [],
   "source": [
    "#X_train = df.text.apply(lambda x:\"\".join(ch.lower() for ch in x if ch.isalnum() or ch == \" \"))"
   ]
  },
  {
   "cell_type": "code",
   "execution_count": 7,
   "id": "e79c22f1",
   "metadata": {
    "execution": {
     "iopub.execute_input": "2023-04-07T23:13:17.562245Z",
     "iopub.status.busy": "2023-04-07T23:13:17.561223Z",
     "iopub.status.idle": "2023-04-07T23:13:17.622583Z",
     "shell.execute_reply": "2023-04-07T23:13:17.621489Z"
    },
    "papermill": {
     "duration": 0.070104,
     "end_time": "2023-04-07T23:13:17.625144",
     "exception": false,
     "start_time": "2023-04-07T23:13:17.555040",
     "status": "completed"
    },
    "tags": []
   },
   "outputs": [],
   "source": [
    "stop_words = [ 'stop', 'the', 'to', 'and', 'a', 'in', 'it', 'is', 'i', 'that', 'had', 'on', 'for', 'were', 'was', 'of', 'as', 'are'] # mostly from NLTK\n",
    "df.text = df.text.str.lower()\n",
    "df.text = df.text.apply(lambda x: \" \".join(word for word in x.split(\" \") if word not in stop_words))"
   ]
  },
  {
   "cell_type": "code",
   "execution_count": 8,
   "id": "3419a1da",
   "metadata": {
    "execution": {
     "iopub.execute_input": "2023-04-07T23:13:17.637924Z",
     "iopub.status.busy": "2023-04-07T23:13:17.637377Z",
     "iopub.status.idle": "2023-04-07T23:13:17.643895Z",
     "shell.execute_reply": "2023-04-07T23:13:17.642983Z"
    },
    "papermill": {
     "duration": 0.015241,
     "end_time": "2023-04-07T23:13:17.645885",
     "exception": false,
     "start_time": "2023-04-07T23:13:17.630644",
     "status": "completed"
    },
    "tags": []
   },
   "outputs": [
    {
     "data": {
      "text/plain": [
       "0    our deeds reason this #earthquake may allah fo...\n",
       "1               forest fire near la ronge sask. canada\n",
       "2    all residents asked 'shelter place' being noti...\n",
       "3    13,000 people receive #wildfires evacuation or...\n",
       "4    just got sent this photo from ruby #alaska smo...\n",
       "Name: text, dtype: object"
      ]
     },
     "execution_count": 8,
     "metadata": {},
     "output_type": "execute_result"
    }
   ],
   "source": [
    "df.text.head()"
   ]
  },
  {
   "cell_type": "code",
   "execution_count": 9,
   "id": "3908459b",
   "metadata": {
    "execution": {
     "iopub.execute_input": "2023-04-07T23:13:17.658084Z",
     "iopub.status.busy": "2023-04-07T23:13:17.657692Z",
     "iopub.status.idle": "2023-04-07T23:13:17.674532Z",
     "shell.execute_reply": "2023-04-07T23:13:17.673476Z"
    },
    "papermill": {
     "duration": 0.025128,
     "end_time": "2023-04-07T23:13:17.676333",
     "exception": false,
     "start_time": "2023-04-07T23:13:17.651205",
     "status": "completed"
    },
    "tags": []
   },
   "outputs": [
    {
     "data": {
      "text/plain": [
       "((6090, 5), (1523, 5))"
      ]
     },
     "execution_count": 9,
     "metadata": {},
     "output_type": "execute_result"
    }
   ],
   "source": [
    "train = df.sample(frac=0.8, replace=False, random_state=42)\n",
    "df.index.drop(train.index)\n",
    "test = df.loc[df.index.drop(train.index)]\n",
    "train.shape, test.shape"
   ]
  },
  {
   "cell_type": "code",
   "execution_count": 10,
   "id": "8ddea1b8",
   "metadata": {
    "execution": {
     "iopub.execute_input": "2023-04-07T23:13:17.689441Z",
     "iopub.status.busy": "2023-04-07T23:13:17.689058Z",
     "iopub.status.idle": "2023-04-07T23:13:17.697539Z",
     "shell.execute_reply": "2023-04-07T23:13:17.696572Z"
    },
    "papermill": {
     "duration": 0.017336,
     "end_time": "2023-04-07T23:13:17.699439",
     "exception": false,
     "start_time": "2023-04-07T23:13:17.682103",
     "status": "completed"
    },
    "tags": []
   },
   "outputs": [
    {
     "data": {
      "text/plain": [
       "((6090,), (6090,), (1523,), (1523,))"
      ]
     },
     "execution_count": 10,
     "metadata": {},
     "output_type": "execute_result"
    }
   ],
   "source": [
    "X_train = train.text.values.flatten()\n",
    "y_train = train.target.values.flatten()\n",
    "X_test = test.text.values.flatten()\n",
    "y_test = test.target.values.flatten()\n",
    "X_train.shape, y_train.shape, X_test.shape, y_test.shape"
   ]
  },
  {
   "cell_type": "code",
   "execution_count": 11,
   "id": "357ec86e",
   "metadata": {
    "execution": {
     "iopub.execute_input": "2023-04-07T23:13:17.713519Z",
     "iopub.status.busy": "2023-04-07T23:13:17.713112Z",
     "iopub.status.idle": "2023-04-07T23:13:17.719587Z",
     "shell.execute_reply": "2023-04-07T23:13:17.718641Z"
    },
    "papermill": {
     "duration": 0.016135,
     "end_time": "2023-04-07T23:13:17.721389",
     "exception": false,
     "start_time": "2023-04-07T23:13:17.705254",
     "status": "completed"
    },
    "tags": []
   },
   "outputs": [],
   "source": [
    "from tensorflow.keras.layers import TextVectorization\n",
    "from tensorflow.keras import Sequential\n",
    "from tensorflow.keras.layers import Embedding, LSTM, Dense\n",
    "from tensorflow.keras.callbacks import EarlyStopping"
   ]
  },
  {
   "cell_type": "code",
   "execution_count": 12,
   "id": "2584920f",
   "metadata": {
    "execution": {
     "iopub.execute_input": "2023-04-07T23:13:17.734675Z",
     "iopub.status.busy": "2023-04-07T23:13:17.734288Z",
     "iopub.status.idle": "2023-04-07T23:13:18.468468Z",
     "shell.execute_reply": "2023-04-07T23:13:18.467375Z"
    },
    "papermill": {
     "duration": 0.74348,
     "end_time": "2023-04-07T23:13:18.470683",
     "exception": false,
     "start_time": "2023-04-07T23:13:17.727203",
     "status": "completed"
    },
    "tags": []
   },
   "outputs": [],
   "source": [
    "tokens = 1000\n",
    "encoder=TextVectorization(max_tokens=tokens, \n",
    "                          standardize='lower_and_strip_punctuation',\n",
    "                          split='whitespace',\n",
    "                          ngrams=2,\n",
    "                          output_mode='int')\n",
    "encoder.adapt(X_train)\n",
    "callback=EarlyStopping(monitor='val_loss', patience = 3, restore_best_weights=True, start_from_epoch=5)"
   ]
  },
  {
   "cell_type": "code",
   "execution_count": 13,
   "id": "68c0bdfb",
   "metadata": {
    "execution": {
     "iopub.execute_input": "2023-04-07T23:13:18.483693Z",
     "iopub.status.busy": "2023-04-07T23:13:18.483372Z",
     "iopub.status.idle": "2023-04-07T23:13:18.496040Z",
     "shell.execute_reply": "2023-04-07T23:13:18.494597Z"
    },
    "papermill": {
     "duration": 0.022406,
     "end_time": "2023-04-07T23:13:18.499084",
     "exception": false,
     "start_time": "2023-04-07T23:13:18.476678",
     "status": "completed"
    },
    "tags": []
   },
   "outputs": [
    {
     "data": {
      "text/plain": [
       "['', '[UNK]', 'you', 'my', 'with', 'at', 'by', 'this', 'from', 'be']"
      ]
     },
     "execution_count": 13,
     "metadata": {},
     "output_type": "execute_result"
    }
   ],
   "source": [
    "encoder.get_vocabulary()[:10]"
   ]
  },
  {
   "cell_type": "code",
   "execution_count": 14,
   "id": "1cfa17f0",
   "metadata": {
    "execution": {
     "iopub.execute_input": "2023-04-07T23:13:18.513856Z",
     "iopub.status.busy": "2023-04-07T23:13:18.513495Z",
     "iopub.status.idle": "2023-04-07T23:13:19.630952Z",
     "shell.execute_reply": "2023-04-07T23:13:19.629573Z"
    },
    "papermill": {
     "duration": 1.12889,
     "end_time": "2023-04-07T23:13:19.635146",
     "exception": false,
     "start_time": "2023-04-07T23:13:18.506256",
     "status": "completed"
    },
    "tags": []
   },
   "outputs": [
    {
     "name": "stdout",
     "output_type": "stream",
     "text": [
      "Model: \"sequential\"\n",
      "_________________________________________________________________\n",
      " Layer (type)                Output Shape              Param #   \n",
      "=================================================================\n",
      " text_vectorization (TextVec  (None, None)             0         \n",
      " torization)                                                     \n",
      "                                                                 \n",
      " embedding (Embedding)       (None, None, 30)          30000     \n",
      "                                                                 \n",
      " lstm (LSTM)                 (None, 30)                7320      \n",
      "                                                                 \n",
      " dense (Dense)               (None, 20)                620       \n",
      "                                                                 \n",
      " dense_1 (Dense)             (None, 20)                420       \n",
      "                                                                 \n",
      " dense_2 (Dense)             (None, 1)                 21        \n",
      "                                                                 \n",
      "=================================================================\n",
      "Total params: 38,381\n",
      "Trainable params: 38,381\n",
      "Non-trainable params: 0\n",
      "_________________________________________________________________\n"
     ]
    }
   ],
   "source": [
    "model = Sequential([\n",
    "    encoder,\n",
    "    Embedding(input_dim=tokens, mask_zero=True, output_dim = 30),\n",
    "    LSTM(30, return_sequences=False),\n",
    "    Dense(20, activation='relu'),\n",
    "    Dense(20, activation='relu'),\n",
    "    Dense(1, activation='sigmoid')\n",
    "])\n",
    "model.compile(loss=tf.keras.losses.BinaryCrossentropy(),\n",
    "              optimizer=tf.keras.optimizers.Adam(1e-4),\n",
    "              metrics=['accuracy'])\n",
    "model.summary()"
   ]
  },
  {
   "cell_type": "code",
   "execution_count": 15,
   "id": "fb2647ee",
   "metadata": {
    "execution": {
     "iopub.execute_input": "2023-04-07T23:13:19.651025Z",
     "iopub.status.busy": "2023-04-07T23:13:19.650637Z",
     "iopub.status.idle": "2023-04-07T23:14:12.732730Z",
     "shell.execute_reply": "2023-04-07T23:14:12.731113Z"
    },
    "papermill": {
     "duration": 53.092585,
     "end_time": "2023-04-07T23:14:12.735005",
     "exception": false,
     "start_time": "2023-04-07T23:13:19.642420",
     "status": "completed"
    },
    "tags": []
   },
   "outputs": [
    {
     "name": "stdout",
     "output_type": "stream",
     "text": [
      "Epoch 1/15\n",
      "191/191 [==============================] - 9s 27ms/step - loss: 0.6865 - accuracy: 0.5703 - val_loss: 0.6838 - val_accuracy: 0.5706\n",
      "Epoch 2/15\n",
      "191/191 [==============================] - 4s 21ms/step - loss: 0.6824 - accuracy: 0.5745 - val_loss: 0.6802 - val_accuracy: 0.5877\n",
      "Epoch 3/15\n",
      "191/191 [==============================] - 4s 21ms/step - loss: 0.6214 - accuracy: 0.6806 - val_loss: 0.5443 - val_accuracy: 0.7538\n",
      "Epoch 4/15\n",
      "191/191 [==============================] - 4s 21ms/step - loss: 0.4914 - accuracy: 0.7957 - val_loss: 0.5238 - val_accuracy: 0.7669\n",
      "Epoch 5/15\n",
      "191/191 [==============================] - 4s 21ms/step - loss: 0.4609 - accuracy: 0.8154 - val_loss: 0.5278 - val_accuracy: 0.7649\n",
      "Epoch 6/15\n",
      "191/191 [==============================] - 4s 21ms/step - loss: 0.4435 - accuracy: 0.8204 - val_loss: 0.5149 - val_accuracy: 0.7754\n",
      "Epoch 7/15\n",
      "191/191 [==============================] - 4s 21ms/step - loss: 0.4298 - accuracy: 0.8287 - val_loss: 0.5105 - val_accuracy: 0.7748\n",
      "Epoch 8/15\n",
      "191/191 [==============================] - 4s 21ms/step - loss: 0.4161 - accuracy: 0.8350 - val_loss: 0.5106 - val_accuracy: 0.7794\n",
      "Epoch 9/15\n",
      "191/191 [==============================] - 4s 21ms/step - loss: 0.4052 - accuracy: 0.8379 - val_loss: 0.5104 - val_accuracy: 0.7781\n",
      "Epoch 10/15\n",
      "191/191 [==============================] - 4s 21ms/step - loss: 0.3995 - accuracy: 0.8415 - val_loss: 0.5197 - val_accuracy: 0.7761\n",
      "Epoch 11/15\n",
      "191/191 [==============================] - 4s 21ms/step - loss: 0.3913 - accuracy: 0.8450 - val_loss: 0.5179 - val_accuracy: 0.7820\n",
      "Epoch 12/15\n",
      "191/191 [==============================] - 4s 21ms/step - loss: 0.3864 - accuracy: 0.8499 - val_loss: 0.5186 - val_accuracy: 0.7787\n"
     ]
    }
   ],
   "source": [
    "history = model.fit(X_train, \n",
    "          y_train,\n",
    "          batch_size=32,\n",
    "          validation_data = (X_test, y_test),\n",
    "          epochs=15,\n",
    "          callbacks=[callback])"
   ]
  },
  {
   "cell_type": "code",
   "execution_count": 16,
   "id": "2b68639f",
   "metadata": {
    "execution": {
     "iopub.execute_input": "2023-04-07T23:14:12.838370Z",
     "iopub.status.busy": "2023-04-07T23:14:12.837114Z",
     "iopub.status.idle": "2023-04-07T23:14:45.395797Z",
     "shell.execute_reply": "2023-04-07T23:14:45.394530Z"
    },
    "papermill": {
     "duration": 32.658375,
     "end_time": "2023-04-07T23:14:45.443904",
     "exception": false,
     "start_time": "2023-04-07T23:14:12.785529",
     "status": "completed"
    },
    "tags": []
   },
   "outputs": [
    {
     "data": {
      "image/png": "[encoded data removed]",
      "text/plain": [
       "<Figure size 640x480 with 1 Axes>"
      ]
     },
     "metadata": {},
     "output_type": "display_data"
    }
   ],
   "source": [
    "n = len(history.history['accuracy'])\n",
    "plt.plot(range(n), history.history['accuracy'])\n",
    "plt.plot(range(n), history.history['val_accuracy'])\n",
    "plt.show()"
   ]
  },
  {
   "cell_type": "code",
   "execution_count": 17,
   "id": "4c58c23d",
   "metadata": {
    "execution": {
     "iopub.execute_input": "2023-04-07T23:14:45.545546Z",
     "iopub.status.busy": "2023-04-07T23:14:45.545192Z",
     "iopub.status.idle": "2023-04-07T23:14:45.551656Z",
     "shell.execute_reply": "2023-04-07T23:14:45.550167Z"
    },
    "papermill": {
     "duration": 0.060589,
     "end_time": "2023-04-07T23:14:45.554397",
     "exception": false,
     "start_time": "2023-04-07T23:14:45.493808",
     "status": "completed"
    },
    "tags": []
   },
   "outputs": [],
   "source": [
    "best_model = history.model"
   ]
  },
  {
   "cell_type": "code",
   "execution_count": 18,
   "id": "c55150d8",
   "metadata": {
    "execution": {
     "iopub.execute_input": "2023-04-07T23:14:45.658171Z",
     "iopub.status.busy": "2023-04-07T23:14:45.657810Z",
     "iopub.status.idle": "2023-04-07T23:14:45.716491Z",
     "shell.execute_reply": "2023-04-07T23:14:45.714872Z"
    },
    "papermill": {
     "duration": 0.112833,
     "end_time": "2023-04-07T23:14:45.718632",
     "exception": false,
     "start_time": "2023-04-07T23:14:45.605799",
     "status": "completed"
    },
    "tags": []
   },
   "outputs": [
    {
     "data": {
      "text/plain": [
       "((3263, 4), (3263,))"
      ]
     },
     "execution_count": 18,
     "metadata": {},
     "output_type": "execute_result"
    }
   ],
   "source": [
    "test_df = pd.read_csv('../input/nlp-getting-started/test.csv')\n",
    "test_df.text = df.text.str.lower()\n",
    "test_df.text = test_df.text.apply(lambda x: \" \".join(word for word in x.split(\" \") if word not in stop_words))\n",
    "test = test_df.text.values.flatten()\n",
    "test_df.shape, test.shape"
   ]
  },
  {
   "cell_type": "code",
   "execution_count": 19,
   "id": "01a5741c",
   "metadata": {
    "execution": {
     "iopub.execute_input": "2023-04-07T23:14:45.823351Z",
     "iopub.status.busy": "2023-04-07T23:14:45.822967Z",
     "iopub.status.idle": "2023-04-07T23:14:47.586271Z",
     "shell.execute_reply": "2023-04-07T23:14:47.585112Z"
    },
    "papermill": {
     "duration": 1.818156,
     "end_time": "2023-04-07T23:14:47.588702",
     "exception": false,
     "start_time": "2023-04-07T23:14:45.770546",
     "status": "completed"
    },
    "tags": []
   },
   "outputs": [
    {
     "name": "stdout",
     "output_type": "stream",
     "text": [
      "102/102 [==============================] - 2s 6ms/step\n"
     ]
    }
   ],
   "source": [
    "yhat = best_model.predict(test)"
   ]
  },
  {
   "cell_type": "code",
   "execution_count": 20,
   "id": "06006898",
   "metadata": {
    "execution": {
     "iopub.execute_input": "2023-04-07T23:14:47.692816Z",
     "iopub.status.busy": "2023-04-07T23:14:47.692433Z",
     "iopub.status.idle": "2023-04-07T23:14:47.708865Z",
     "shell.execute_reply": "2023-04-07T23:14:47.708061Z"
    },
    "papermill": {
     "duration": 0.070924,
     "end_time": "2023-04-07T23:14:47.710888",
     "exception": false,
     "start_time": "2023-04-07T23:14:47.639964",
     "status": "completed"
    },
    "tags": []
   },
   "outputs": [],
   "source": [
    "submission = test_df[['id']].copy()\n",
    "submission['target'] = np.round(yhat,0)\n",
    "submission.target = submission.target.astype(int)\n",
    "submission.to_csv('submission.csv', index=False)"
   ]
  },
  {
   "cell_type": "code",
   "execution_count": 21,
   "id": "a95a297f",
   "metadata": {
    "execution": {
     "iopub.execute_input": "2023-04-07T23:14:47.816115Z",
     "iopub.status.busy": "2023-04-07T23:14:47.815749Z",
     "iopub.status.idle": "2023-04-07T23:14:47.826702Z",
     "shell.execute_reply": "2023-04-07T23:14:47.825706Z"
    },
    "papermill": {
     "duration": 0.065954,
     "end_time": "2023-04-07T23:14:47.828549",
     "exception": false,
     "start_time": "2023-04-07T23:14:47.762595",
     "status": "completed"
    },
    "tags": []
   },
   "outputs": [
    {
     "data": {
      "text/html": [
       "<div>\n",
       "<style scoped>\n",
       "    .dataframe tbody tr th:only-of-type {\n",
       "        vertical-align: middle;\n",
       "    }\n",
       "\n",
       "    .dataframe tbody tr th {\n",
       "        vertical-align: top;\n",
       "    }\n",
       "\n",
       "    .dataframe thead th {\n",
       "        text-align: right;\n",
       "    }\n",
       "</style>\n",
       "<table border=\"1\" class=\"dataframe\">\n",
       "  <thead>\n",
       "    <tr style=\"text-align: right;\">\n",
       "      <th></th>\n",
       "      <th>id</th>\n",
       "      <th>target</th>\n",
       "    </tr>\n",
       "  </thead>\n",
       "  <tbody>\n",
       "    <tr>\n",
       "      <th>0</th>\n",
       "      <td>0</td>\n",
       "      <td>1</td>\n",
       "    </tr>\n",
       "    <tr>\n",
       "      <th>1</th>\n",
       "      <td>2</td>\n",
       "      <td>1</td>\n",
       "    </tr>\n",
       "    <tr>\n",
       "      <th>2</th>\n",
       "      <td>3</td>\n",
       "      <td>1</td>\n",
       "    </tr>\n",
       "    <tr>\n",
       "      <th>3</th>\n",
       "      <td>9</td>\n",
       "      <td>1</td>\n",
       "    </tr>\n",
       "    <tr>\n",
       "      <th>4</th>\n",
       "      <td>11</td>\n",
       "      <td>0</td>\n",
       "    </tr>\n",
       "  </tbody>\n",
       "</table>\n",
       "</div>"
      ],
      "text/plain": [
       "   id  target\n",
       "0   0       1\n",
       "1   2       1\n",
       "2   3       1\n",
       "3   9       1\n",
       "4  11       0"
      ]
     },
     "execution_count": 21,
     "metadata": {},
     "output_type": "execute_result"
    }
   ],
   "source": [
    "pd.read_csv('submission.csv').head()"
   ]
  },
  {
   "cell_type": "code",
   "execution_count": null,
   "id": "fa433a3a",
   "metadata": {
    "papermill": {
     "duration": 0.051721,
     "end_time": "2023-04-07T23:14:47.932935",
     "exception": false,
     "start_time": "2023-04-07T23:14:47.881214",
     "status": "completed"
    },
    "tags": []
   },
   "outputs": [],
   "source": []
  }
 ],
 "metadata": {
  "kernelspec": {
   "display_name": "Python 3",
   "language": "python",
   "name": "python3"
  },
  "language_info": {
   "codemirror_mode": {
    "name": "ipython",
    "version": 3
   },
   "file_extension": ".py",
   "mimetype": "text/x-python",
   "name": "python",
   "nbconvert_exporter": "python",
   "pygments_lexer": "ipython3",
   "version": "3.7.12"
  },
  "papermill": {
   "default_parameters": {},
   "duration": 110.786769,
   "end_time": "2023-04-07T23:14:51.415061",
   "environment_variables": {},
   "exception": null,
   "input_path": "__notebook__.ipynb",
   "output_path": "__notebook__.ipynb",
   "parameters": {},
   "start_time": "2023-04-07T23:13:00.628292",
   "version": "2.4.0"
  }
 },
 "nbformat": 4,
 "nbformat_minor": 5
}
