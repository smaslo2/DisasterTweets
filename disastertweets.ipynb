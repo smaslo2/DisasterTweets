{
 "cells": [
  {
   "cell_type": "code",
   "execution_count": 1,
   "id": "d1fea98b",
   "metadata": {
    "_cell_guid": "b1076dfc-b9ad-4769-8c92-a6c4dae69d19",
    "_uuid": "8f2839f25d086af736a60e9eeb907d3b93b6e0e5",
    "execution": {
     "iopub.execute_input": "2023-04-08T21:03:24.050581Z",
     "iopub.status.busy": "2023-04-08T21:03:24.049617Z",
     "iopub.status.idle": "2023-04-08T21:03:24.068117Z",
     "shell.execute_reply": "2023-04-08T21:03:24.067138Z"
    },
    "papermill": {
     "duration": 0.030667,
     "end_time": "2023-04-08T21:03:24.070759",
     "exception": false,
     "start_time": "2023-04-08T21:03:24.040092",
     "status": "completed"
    },
    "tags": []
   },
   "outputs": [
    {
     "name": "stdout",
     "output_type": "stream",
     "text": [
      "/kaggle/input/nlp-getting-started/sample_submission.csv\n",
      "/kaggle/input/nlp-getting-started/train.csv\n",
      "/kaggle/input/nlp-getting-started/test.csv\n"
     ]
    }
   ],
   "source": [
    "# This Python 3 environment comes with many helpful analytics libraries installed\n",
    "# It is defined by the kaggle/python Docker image: https://github.com/kaggle/docker-python\n",
    "# For example, here's several helpful packages to load\n",
    "\n",
    "import numpy as np # linear algebra\n",
    "import pandas as pd # data processing, CSV file I/O (e.g. pd.read_csv)\n",
    "\n",
    "# Input data files are available in the read-only \"../input/\" directory\n",
    "# For example, running this (by clicking run or pressing Shift+Enter) will list all files under the input directory\n",
    "\n",
    "import os\n",
    "for dirname, _, filenames in os.walk('/kaggle/input'):\n",
    "    for filename in filenames:\n",
    "        print(os.path.join(dirname, filename))\n",
    "\n",
    "# You can write up to 20GB to the current directory (/kaggle/working/) that gets preserved as output when you create a version using \"Save & Run All\" \n",
    "# You can also write temporary files to /kaggle/temp/, but they won't be saved outside of the current session"
   ]
  },
  {
   "cell_type": "code",
   "execution_count": 2,
   "id": "efb8aac7",
   "metadata": {
    "execution": {
     "iopub.execute_input": "2023-04-08T21:03:24.085392Z",
     "iopub.status.busy": "2023-04-08T21:03:24.084925Z",
     "iopub.status.idle": "2023-04-08T21:03:34.096201Z",
     "shell.execute_reply": "2023-04-08T21:03:34.094675Z"
    },
    "papermill": {
     "duration": 10.022315,
     "end_time": "2023-04-08T21:03:34.099089",
     "exception": false,
     "start_time": "2023-04-08T21:03:24.076774",
     "status": "completed"
    },
    "tags": []
   },
   "outputs": [],
   "source": [
    "import tensorflow as tf\n",
    "import matplotlib.pyplot as plt"
   ]
  },
  {
   "cell_type": "code",
   "execution_count": 3,
   "id": "15d0ab9f",
   "metadata": {
    "execution": {
     "iopub.execute_input": "2023-04-08T21:03:34.113715Z",
     "iopub.status.busy": "2023-04-08T21:03:34.112782Z",
     "iopub.status.idle": "2023-04-08T21:03:34.179990Z",
     "shell.execute_reply": "2023-04-08T21:03:34.178700Z"
    },
    "papermill": {
     "duration": 0.077618,
     "end_time": "2023-04-08T21:03:34.182821",
     "exception": false,
     "start_time": "2023-04-08T21:03:34.105203",
     "status": "completed"
    },
    "tags": []
   },
   "outputs": [],
   "source": [
    "df = pd.read_csv('../input/nlp-getting-started/train.csv')"
   ]
  },
  {
   "cell_type": "code",
   "execution_count": 4,
   "id": "1705d483",
   "metadata": {
    "execution": {
     "iopub.execute_input": "2023-04-08T21:03:34.197405Z",
     "iopub.status.busy": "2023-04-08T21:03:34.196117Z",
     "iopub.status.idle": "2023-04-08T21:03:34.226402Z",
     "shell.execute_reply": "2023-04-08T21:03:34.224756Z"
    },
    "papermill": {
     "duration": 0.040433,
     "end_time": "2023-04-08T21:03:34.229284",
     "exception": false,
     "start_time": "2023-04-08T21:03:34.188851",
     "status": "completed"
    },
    "tags": []
   },
   "outputs": [
    {
     "data": {
      "text/html": [
       "<div>\n",
       "<style scoped>\n",
       "    .dataframe tbody tr th:only-of-type {\n",
       "        vertical-align: middle;\n",
       "    }\n",
       "\n",
       "    .dataframe tbody tr th {\n",
       "        vertical-align: top;\n",
       "    }\n",
       "\n",
       "    .dataframe thead th {\n",
       "        text-align: right;\n",
       "    }\n",
       "</style>\n",
       "<table border=\"1\" class=\"dataframe\">\n",
       "  <thead>\n",
       "    <tr style=\"text-align: right;\">\n",
       "      <th></th>\n",
       "      <th>id</th>\n",
       "      <th>keyword</th>\n",
       "      <th>location</th>\n",
       "      <th>text</th>\n",
       "      <th>target</th>\n",
       "    </tr>\n",
       "  </thead>\n",
       "  <tbody>\n",
       "    <tr>\n",
       "      <th>0</th>\n",
       "      <td>1</td>\n",
       "      <td>NaN</td>\n",
       "      <td>NaN</td>\n",
       "      <td>Our Deeds are the Reason of this #earthquake M...</td>\n",
       "      <td>1</td>\n",
       "    </tr>\n",
       "    <tr>\n",
       "      <th>1</th>\n",
       "      <td>4</td>\n",
       "      <td>NaN</td>\n",
       "      <td>NaN</td>\n",
       "      <td>Forest fire near La Ronge Sask. Canada</td>\n",
       "      <td>1</td>\n",
       "    </tr>\n",
       "    <tr>\n",
       "      <th>2</th>\n",
       "      <td>5</td>\n",
       "      <td>NaN</td>\n",
       "      <td>NaN</td>\n",
       "      <td>All residents asked to 'shelter in place' are ...</td>\n",
       "      <td>1</td>\n",
       "    </tr>\n",
       "    <tr>\n",
       "      <th>3</th>\n",
       "      <td>6</td>\n",
       "      <td>NaN</td>\n",
       "      <td>NaN</td>\n",
       "      <td>13,000 people receive #wildfires evacuation or...</td>\n",
       "      <td>1</td>\n",
       "    </tr>\n",
       "    <tr>\n",
       "      <th>4</th>\n",
       "      <td>7</td>\n",
       "      <td>NaN</td>\n",
       "      <td>NaN</td>\n",
       "      <td>Just got sent this photo from Ruby #Alaska as ...</td>\n",
       "      <td>1</td>\n",
       "    </tr>\n",
       "  </tbody>\n",
       "</table>\n",
       "</div>"
      ],
      "text/plain": [
       "   id keyword location                                               text  \\\n",
       "0   1     NaN      NaN  Our Deeds are the Reason of this #earthquake M...   \n",
       "1   4     NaN      NaN             Forest fire near La Ronge Sask. Canada   \n",
       "2   5     NaN      NaN  All residents asked to 'shelter in place' are ...   \n",
       "3   6     NaN      NaN  13,000 people receive #wildfires evacuation or...   \n",
       "4   7     NaN      NaN  Just got sent this photo from Ruby #Alaska as ...   \n",
       "\n",
       "   target  \n",
       "0       1  \n",
       "1       1  \n",
       "2       1  \n",
       "3       1  \n",
       "4       1  "
      ]
     },
     "execution_count": 4,
     "metadata": {},
     "output_type": "execute_result"
    }
   ],
   "source": [
    "df.head()"
   ]
  },
  {
   "cell_type": "code",
   "execution_count": 5,
   "id": "c1f2d52a",
   "metadata": {
    "execution": {
     "iopub.execute_input": "2023-04-08T21:03:34.244258Z",
     "iopub.status.busy": "2023-04-08T21:03:34.243405Z",
     "iopub.status.idle": "2023-04-08T21:03:34.621372Z",
     "shell.execute_reply": "2023-04-08T21:03:34.620008Z"
    },
    "papermill": {
     "duration": 0.388671,
     "end_time": "2023-04-08T21:03:34.624160",
     "exception": false,
     "start_time": "2023-04-08T21:03:34.235489",
     "status": "completed"
    },
    "tags": []
   },
   "outputs": [
    {
     "data": {
      "text/plain": [
       "31"
      ]
     },
     "execution_count": 5,
     "metadata": {},
     "output_type": "execute_result"
    },
    {
     "data": {
      "image/png": "[encoded data removed]",
      "text/plain": [
       "<Figure size 640x480 with 1 Axes>"
      ]
     },
     "metadata": {},
     "output_type": "display_data"
    }
   ],
   "source": [
    "x = df.text.apply(str.split).apply(len)\n",
    "x.hist()\n",
    "plt.show\n",
    "x.max()"
   ]
  },
  {
   "cell_type": "code",
   "execution_count": 6,
   "id": "08ce2212",
   "metadata": {
    "execution": {
     "iopub.execute_input": "2023-04-08T21:03:34.640483Z",
     "iopub.status.busy": "2023-04-08T21:03:34.639141Z",
     "iopub.status.idle": "2023-04-08T21:03:34.644698Z",
     "shell.execute_reply": "2023-04-08T21:03:34.643450Z"
    },
    "papermill": {
     "duration": 0.016491,
     "end_time": "2023-04-08T21:03:34.647383",
     "exception": false,
     "start_time": "2023-04-08T21:03:34.630892",
     "status": "completed"
    },
    "tags": []
   },
   "outputs": [],
   "source": [
    "#X_train = df.text.apply(lambda x:\"\".join(ch.lower() for ch in x if ch.isalnum() or ch == \" \"))"
   ]
  },
  {
   "cell_type": "code",
   "execution_count": 7,
   "id": "ffaf3ce5",
   "metadata": {
    "execution": {
     "iopub.execute_input": "2023-04-08T21:03:34.663494Z",
     "iopub.status.busy": "2023-04-08T21:03:34.662121Z",
     "iopub.status.idle": "2023-04-08T21:03:34.736072Z",
     "shell.execute_reply": "2023-04-08T21:03:34.734646Z"
    },
    "papermill": {
     "duration": 0.085041,
     "end_time": "2023-04-08T21:03:34.739156",
     "exception": false,
     "start_time": "2023-04-08T21:03:34.654115",
     "status": "completed"
    },
    "tags": []
   },
   "outputs": [],
   "source": [
    "stop_words = [ 'stop', 'the', 'to', 'and', 'a', 'in', 'it', 'is', 'i', 'that', 'had', 'on', 'for', 'were', 'was', 'of', 'as', 'are'] # mostly from NLTK\n",
    "df.text = df.text.str.lower()\n",
    "df.text = df.text.apply(lambda x: \" \".join(word for word in x.split(\" \") if word not in stop_words))"
   ]
  },
  {
   "cell_type": "code",
   "execution_count": 8,
   "id": "7918ec32",
   "metadata": {
    "execution": {
     "iopub.execute_input": "2023-04-08T21:03:34.754778Z",
     "iopub.status.busy": "2023-04-08T21:03:34.753907Z",
     "iopub.status.idle": "2023-04-08T21:03:34.763560Z",
     "shell.execute_reply": "2023-04-08T21:03:34.762243Z"
    },
    "papermill": {
     "duration": 0.020772,
     "end_time": "2023-04-08T21:03:34.766534",
     "exception": false,
     "start_time": "2023-04-08T21:03:34.745762",
     "status": "completed"
    },
    "tags": []
   },
   "outputs": [
    {
     "data": {
      "text/plain": [
       "0    our deeds reason this #earthquake may allah fo...\n",
       "1               forest fire near la ronge sask. canada\n",
       "2    all residents asked 'shelter place' being noti...\n",
       "3    13,000 people receive #wildfires evacuation or...\n",
       "4    just got sent this photo from ruby #alaska smo...\n",
       "Name: text, dtype: object"
      ]
     },
     "execution_count": 8,
     "metadata": {},
     "output_type": "execute_result"
    }
   ],
   "source": [
    "df.text.head()"
   ]
  },
  {
   "cell_type": "code",
   "execution_count": 9,
   "id": "de1da53a",
   "metadata": {
    "execution": {
     "iopub.execute_input": "2023-04-08T21:03:34.782274Z",
     "iopub.status.busy": "2023-04-08T21:03:34.781760Z",
     "iopub.status.idle": "2023-04-08T21:03:34.801042Z",
     "shell.execute_reply": "2023-04-08T21:03:34.799502Z"
    },
    "papermill": {
     "duration": 0.030497,
     "end_time": "2023-04-08T21:03:34.803794",
     "exception": false,
     "start_time": "2023-04-08T21:03:34.773297",
     "status": "completed"
    },
    "tags": []
   },
   "outputs": [
    {
     "data": {
      "text/plain": [
       "((6090, 5), (1523, 5))"
      ]
     },
     "execution_count": 9,
     "metadata": {},
     "output_type": "execute_result"
    }
   ],
   "source": [
    "train = df.sample(frac=0.8, replace=False, random_state=42)\n",
    "df.index.drop(train.index)\n",
    "test = df.loc[df.index.drop(train.index)]\n",
    "train.shape, test.shape"
   ]
  },
  {
   "cell_type": "code",
   "execution_count": 10,
   "id": "32dafdfb",
   "metadata": {
    "execution": {
     "iopub.execute_input": "2023-04-08T21:03:34.820139Z",
     "iopub.status.busy": "2023-04-08T21:03:34.818988Z",
     "iopub.status.idle": "2023-04-08T21:03:34.829290Z",
     "shell.execute_reply": "2023-04-08T21:03:34.827995Z"
    },
    "papermill": {
     "duration": 0.021231,
     "end_time": "2023-04-08T21:03:34.831900",
     "exception": false,
     "start_time": "2023-04-08T21:03:34.810669",
     "status": "completed"
    },
    "tags": []
   },
   "outputs": [
    {
     "data": {
      "text/plain": [
       "((6090,), (6090,), (1523,), (1523,))"
      ]
     },
     "execution_count": 10,
     "metadata": {},
     "output_type": "execute_result"
    }
   ],
   "source": [
    "X_train = train.text.values.flatten()\n",
    "y_train = train.target.values.flatten()\n",
    "X_test = test.text.values.flatten()\n",
    "y_test = test.target.values.flatten()\n",
    "X_train.shape, y_train.shape, X_test.shape, y_test.shape"
   ]
  },
  {
   "cell_type": "code",
   "execution_count": 11,
   "id": "af59db6f",
   "metadata": {
    "execution": {
     "iopub.execute_input": "2023-04-08T21:03:34.848576Z",
     "iopub.status.busy": "2023-04-08T21:03:34.848084Z",
     "iopub.status.idle": "2023-04-08T21:03:34.855693Z",
     "shell.execute_reply": "2023-04-08T21:03:34.854791Z"
    },
    "papermill": {
     "duration": 0.019398,
     "end_time": "2023-04-08T21:03:34.858040",
     "exception": false,
     "start_time": "2023-04-08T21:03:34.838642",
     "status": "completed"
    },
    "tags": []
   },
   "outputs": [],
   "source": [
    "from tensorflow.keras.layers import TextVectorization\n",
    "from tensorflow.keras import Sequential\n",
    "from tensorflow.keras.layers import Embedding, LSTM, Dense, Dropout, Flatten\n",
    "from tensorflow.keras.callbacks import EarlyStopping"
   ]
  },
  {
   "cell_type": "code",
   "execution_count": 12,
   "id": "943e1f0c",
   "metadata": {
    "execution": {
     "iopub.execute_input": "2023-04-08T21:03:34.874353Z",
     "iopub.status.busy": "2023-04-08T21:03:34.873391Z",
     "iopub.status.idle": "2023-04-08T21:03:35.674227Z",
     "shell.execute_reply": "2023-04-08T21:03:35.672974Z"
    },
    "papermill": {
     "duration": 0.811877,
     "end_time": "2023-04-08T21:03:35.676878",
     "exception": false,
     "start_time": "2023-04-08T21:03:34.865001",
     "status": "completed"
    },
    "tags": []
   },
   "outputs": [],
   "source": [
    "tokens = 1500\n",
    "encoder=TextVectorization(max_tokens=tokens, \n",
    "                          standardize='lower_and_strip_punctuation',\n",
    "                          split='whitespace',\n",
    "                          ngrams=None,\n",
    "                          output_mode='int')\n",
    "encoder.adapt(X_train)\n",
    "callback=EarlyStopping(monitor='val_accuracy', patience = 3, restore_best_weights=False, start_from_epoch=5)"
   ]
  },
  {
   "cell_type": "code",
   "execution_count": 13,
   "id": "2cc4a937",
   "metadata": {
    "execution": {
     "iopub.execute_input": "2023-04-08T21:03:35.693249Z",
     "iopub.status.busy": "2023-04-08T21:03:35.692524Z",
     "iopub.status.idle": "2023-04-08T21:03:35.706296Z",
     "shell.execute_reply": "2023-04-08T21:03:35.704841Z"
    },
    "papermill": {
     "duration": 0.025116,
     "end_time": "2023-04-08T21:03:35.708894",
     "exception": false,
     "start_time": "2023-04-08T21:03:35.683778",
     "status": "completed"
    },
    "tags": []
   },
   "outputs": [
    {
     "data": {
      "text/plain": [
       "['', '[UNK]', 'you', 'my', 'with', 'at', 'by', 'this', 'from', 'be']"
      ]
     },
     "execution_count": 13,
     "metadata": {},
     "output_type": "execute_result"
    }
   ],
   "source": [
    "encoder.get_vocabulary()[:10]"
   ]
  },
  {
   "cell_type": "code",
   "execution_count": 14,
   "id": "a178f29c",
   "metadata": {
    "execution": {
     "iopub.execute_input": "2023-04-08T21:03:35.724919Z",
     "iopub.status.busy": "2023-04-08T21:03:35.724466Z",
     "iopub.status.idle": "2023-04-08T21:03:37.292459Z",
     "shell.execute_reply": "2023-04-08T21:03:37.290802Z"
    },
    "papermill": {
     "duration": 1.585392,
     "end_time": "2023-04-08T21:03:37.301234",
     "exception": false,
     "start_time": "2023-04-08T21:03:35.715842",
     "status": "completed"
    },
    "tags": []
   },
   "outputs": [
    {
     "name": "stdout",
     "output_type": "stream",
     "text": [
      "Model: \"sequential\"\n",
      "_________________________________________________________________\n",
      " Layer (type)                Output Shape              Param #   \n",
      "=================================================================\n",
      " text_vectorization (TextVec  (None, None)             0         \n",
      " torization)                                                     \n",
      "                                                                 \n",
      " embedding (Embedding)       (None, None, 50)          75000     \n",
      "                                                                 \n",
      " lstm (LSTM)                 (None, 31)                10168     \n",
      "                                                                 \n",
      " dense (Dense)               (None, 25)                800       \n",
      "                                                                 \n",
      " dense_1 (Dense)             (None, 25)                650       \n",
      "                                                                 \n",
      " dense_2 (Dense)             (None, 1)                 26        \n",
      "                                                                 \n",
      "=================================================================\n",
      "Total params: 86,644\n",
      "Trainable params: 86,644\n",
      "Non-trainable params: 0\n",
      "_________________________________________________________________\n"
     ]
    }
   ],
   "source": [
    "model = Sequential([\n",
    "    encoder,\n",
    "    Embedding(input_dim=len(encoder.get_vocabulary()), mask_zero=True, output_dim = 50),\n",
    "    LSTM(31, return_sequences=False),\n",
    "    Dense(25, activation='relu'),\n",
    "    Dense(25, activation='relu'),\n",
    "    Dense(1, activation='sigmoid')\n",
    "])\n",
    "model.compile(loss=tf.keras.losses.BinaryCrossentropy(),\n",
    "              optimizer=tf.keras.optimizers.Adam(1e-4),\n",
    "              metrics=['accuracy'])\n",
    "model.summary()"
   ]
  },
  {
   "cell_type": "code",
   "execution_count": 15,
   "id": "6fcb44c7",
   "metadata": {
    "execution": {
     "iopub.execute_input": "2023-04-08T21:03:37.320048Z",
     "iopub.status.busy": "2023-04-08T21:03:37.319606Z",
     "iopub.status.idle": "2023-04-08T21:04:37.984310Z",
     "shell.execute_reply": "2023-04-08T21:04:37.982753Z"
    },
    "papermill": {
     "duration": 60.677473,
     "end_time": "2023-04-08T21:04:37.987045",
     "exception": false,
     "start_time": "2023-04-08T21:03:37.309572",
     "status": "completed"
    },
    "tags": []
   },
   "outputs": [
    {
     "name": "stdout",
     "output_type": "stream",
     "text": [
      "Epoch 1/15\n",
      "191/191 [==============================] - 11s 27ms/step - loss: 0.6907 - accuracy: 0.5612 - val_loss: 0.6864 - val_accuracy: 0.5863\n",
      "Epoch 2/15\n",
      "191/191 [==============================] - 4s 19ms/step - loss: 0.6571 - accuracy: 0.7023 - val_loss: 0.5859 - val_accuracy: 0.7590\n",
      "Epoch 3/15\n",
      "191/191 [==============================] - 3s 18ms/step - loss: 0.5041 - accuracy: 0.8015 - val_loss: 0.5217 - val_accuracy: 0.7735\n",
      "Epoch 4/15\n",
      "191/191 [==============================] - 3s 18ms/step - loss: 0.4413 - accuracy: 0.8258 - val_loss: 0.5237 - val_accuracy: 0.7708\n",
      "Epoch 5/15\n",
      "191/191 [==============================] - 4s 18ms/step - loss: 0.4121 - accuracy: 0.8373 - val_loss: 0.5178 - val_accuracy: 0.7748\n",
      "Epoch 6/15\n",
      "191/191 [==============================] - 3s 18ms/step - loss: 0.3897 - accuracy: 0.8504 - val_loss: 0.5176 - val_accuracy: 0.7807\n",
      "Epoch 7/15\n",
      "191/191 [==============================] - 4s 19ms/step - loss: 0.3714 - accuracy: 0.8558 - val_loss: 0.5264 - val_accuracy: 0.7814\n",
      "Epoch 8/15\n",
      "191/191 [==============================] - 4s 18ms/step - loss: 0.3565 - accuracy: 0.8617 - val_loss: 0.5273 - val_accuracy: 0.7840\n",
      "Epoch 9/15\n",
      "191/191 [==============================] - 4s 19ms/step - loss: 0.3445 - accuracy: 0.8658 - val_loss: 0.5412 - val_accuracy: 0.7866\n",
      "Epoch 10/15\n",
      "191/191 [==============================] - 4s 19ms/step - loss: 0.3345 - accuracy: 0.8731 - val_loss: 0.5437 - val_accuracy: 0.7853\n",
      "Epoch 11/15\n",
      "191/191 [==============================] - 4s 18ms/step - loss: 0.3242 - accuracy: 0.8775 - val_loss: 0.5525 - val_accuracy: 0.7879\n",
      "Epoch 12/15\n",
      "191/191 [==============================] - 3s 18ms/step - loss: 0.3176 - accuracy: 0.8811 - val_loss: 0.5547 - val_accuracy: 0.7899\n",
      "Epoch 13/15\n",
      "191/191 [==============================] - 4s 19ms/step - loss: 0.3085 - accuracy: 0.8852 - val_loss: 0.5707 - val_accuracy: 0.7833\n",
      "Epoch 14/15\n",
      "191/191 [==============================] - 4s 18ms/step - loss: 0.3016 - accuracy: 0.8892 - val_loss: 0.5809 - val_accuracy: 0.7866\n",
      "Epoch 15/15\n",
      "191/191 [==============================] - 3s 18ms/step - loss: 0.2958 - accuracy: 0.8906 - val_loss: 0.5980 - val_accuracy: 0.7853\n"
     ]
    }
   ],
   "source": [
    "history = model.fit(X_train, \n",
    "          y_train,\n",
    "          batch_size=32,\n",
    "          validation_data = (X_test, y_test),\n",
    "          epochs=15,\n",
    "          callbacks=[callback])"
   ]
  },
  {
   "cell_type": "code",
   "execution_count": 16,
   "id": "d5914be8",
   "metadata": {
    "execution": {
     "iopub.execute_input": "2023-04-08T21:04:38.116876Z",
     "iopub.status.busy": "2023-04-08T21:04:38.114417Z",
     "iopub.status.idle": "2023-04-08T21:05:04.775198Z",
     "shell.execute_reply": "2023-04-08T21:05:04.774137Z"
    },
    "papermill": {
     "duration": 26.727512,
     "end_time": "2023-04-08T21:05:04.777668",
     "exception": false,
     "start_time": "2023-04-08T21:04:38.050156",
     "status": "completed"
    },
    "tags": []
   },
   "outputs": [
    {
     "data": {
      "image/png": "[encoded data removed]",
      "text/plain": [
       "<Figure size 640x480 with 1 Axes>"
      ]
     },
     "metadata": {},
     "output_type": "display_data"
    }
   ],
   "source": [
    "n = len(history.history['accuracy'])\n",
    "plt.plot(range(n), history.history['accuracy'])\n",
    "plt.plot(range(n), history.history['val_accuracy'])\n",
    "plt.show()"
   ]
  },
  {
   "cell_type": "code",
   "execution_count": 17,
   "id": "6fecb2d8",
   "metadata": {
    "execution": {
     "iopub.execute_input": "2023-04-08T21:05:04.905359Z",
     "iopub.status.busy": "2023-04-08T21:05:04.903925Z",
     "iopub.status.idle": "2023-04-08T21:05:04.910575Z",
     "shell.execute_reply": "2023-04-08T21:05:04.909125Z"
    },
    "papermill": {
     "duration": 0.073514,
     "end_time": "2023-04-08T21:05:04.913361",
     "exception": false,
     "start_time": "2023-04-08T21:05:04.839847",
     "status": "completed"
    },
    "tags": []
   },
   "outputs": [],
   "source": [
    "best_model = history.model"
   ]
  },
  {
   "cell_type": "code",
   "execution_count": 18,
   "id": "f576fec6",
   "metadata": {
    "execution": {
     "iopub.execute_input": "2023-04-08T21:05:05.043128Z",
     "iopub.status.busy": "2023-04-08T21:05:05.042697Z",
     "iopub.status.idle": "2023-04-08T21:05:05.109947Z",
     "shell.execute_reply": "2023-04-08T21:05:05.108567Z"
    },
    "papermill": {
     "duration": 0.13448,
     "end_time": "2023-04-08T21:05:05.112510",
     "exception": false,
     "start_time": "2023-04-08T21:05:04.978030",
     "status": "completed"
    },
    "tags": []
   },
   "outputs": [
    {
     "data": {
      "text/plain": [
       "((3263, 4), (3263,))"
      ]
     },
     "execution_count": 18,
     "metadata": {},
     "output_type": "execute_result"
    }
   ],
   "source": [
    "test_df = pd.read_csv('../input/nlp-getting-started/test.csv')\n",
    "test_df.text = df.text.str.lower()\n",
    "test_df.text = test_df.text.apply(lambda x: \" \".join(word for word in x.split(\" \") if word not in stop_words))\n",
    "test = test_df.text.values.flatten()\n",
    "test_df.shape, test.shape"
   ]
  },
  {
   "cell_type": "code",
   "execution_count": 19,
   "id": "ab2ae666",
   "metadata": {
    "execution": {
     "iopub.execute_input": "2023-04-08T21:05:05.241566Z",
     "iopub.status.busy": "2023-04-08T21:05:05.240780Z",
     "iopub.status.idle": "2023-04-08T21:05:07.472502Z",
     "shell.execute_reply": "2023-04-08T21:05:07.471192Z"
    },
    "papermill": {
     "duration": 2.300173,
     "end_time": "2023-04-08T21:05:07.475697",
     "exception": false,
     "start_time": "2023-04-08T21:05:05.175524",
     "status": "completed"
    },
    "tags": []
   },
   "outputs": [
    {
     "name": "stdout",
     "output_type": "stream",
     "text": [
      "102/102 [==============================] - 2s 6ms/step\n"
     ]
    }
   ],
   "source": [
    "yhat = best_model.predict(test)"
   ]
  },
  {
   "cell_type": "code",
   "execution_count": 20,
   "id": "374d2052",
   "metadata": {
    "execution": {
     "iopub.execute_input": "2023-04-08T21:05:07.607705Z",
     "iopub.status.busy": "2023-04-08T21:05:07.606403Z",
     "iopub.status.idle": "2023-04-08T21:05:07.628691Z",
     "shell.execute_reply": "2023-04-08T21:05:07.627276Z"
    },
    "papermill": {
     "duration": 0.091303,
     "end_time": "2023-04-08T21:05:07.631682",
     "exception": false,
     "start_time": "2023-04-08T21:05:07.540379",
     "status": "completed"
    },
    "tags": []
   },
   "outputs": [],
   "source": [
    "submission = test_df[['id']].copy()\n",
    "submission['target'] = np.round(yhat,0)\n",
    "submission.target = submission.target.astype(int)\n",
    "submission.to_csv('submission.csv', index=False)"
   ]
  },
  {
   "cell_type": "code",
   "execution_count": 21,
   "id": "c8bb5708",
   "metadata": {
    "execution": {
     "iopub.execute_input": "2023-04-08T21:05:07.761537Z",
     "iopub.status.busy": "2023-04-08T21:05:07.760291Z",
     "iopub.status.idle": "2023-04-08T21:05:07.773435Z",
     "shell.execute_reply": "2023-04-08T21:05:07.772104Z"
    },
    "papermill": {
     "duration": 0.080951,
     "end_time": "2023-04-08T21:05:07.776071",
     "exception": false,
     "start_time": "2023-04-08T21:05:07.695120",
     "status": "completed"
    },
    "tags": []
   },
   "outputs": [
    {
     "data": {
      "text/html": [
       "<div>\n",
       "<style scoped>\n",
       "    .dataframe tbody tr th:only-of-type {\n",
       "        vertical-align: middle;\n",
       "    }\n",
       "\n",
       "    .dataframe tbody tr th {\n",
       "        vertical-align: top;\n",
       "    }\n",
       "\n",
       "    .dataframe thead th {\n",
       "        text-align: right;\n",
       "    }\n",
       "</style>\n",
       "<table border=\"1\" class=\"dataframe\">\n",
       "  <thead>\n",
       "    <tr style=\"text-align: right;\">\n",
       "      <th></th>\n",
       "      <th>id</th>\n",
       "      <th>target</th>\n",
       "    </tr>\n",
       "  </thead>\n",
       "  <tbody>\n",
       "    <tr>\n",
       "      <th>0</th>\n",
       "      <td>0</td>\n",
       "      <td>1</td>\n",
       "    </tr>\n",
       "    <tr>\n",
       "      <th>1</th>\n",
       "      <td>2</td>\n",
       "      <td>1</td>\n",
       "    </tr>\n",
       "    <tr>\n",
       "      <th>2</th>\n",
       "      <td>3</td>\n",
       "      <td>1</td>\n",
       "    </tr>\n",
       "    <tr>\n",
       "      <th>3</th>\n",
       "      <td>9</td>\n",
       "      <td>1</td>\n",
       "    </tr>\n",
       "    <tr>\n",
       "      <th>4</th>\n",
       "      <td>11</td>\n",
       "      <td>0</td>\n",
       "    </tr>\n",
       "  </tbody>\n",
       "</table>\n",
       "</div>"
      ],
      "text/plain": [
       "   id  target\n",
       "0   0       1\n",
       "1   2       1\n",
       "2   3       1\n",
       "3   9       1\n",
       "4  11       0"
      ]
     },
     "execution_count": 21,
     "metadata": {},
     "output_type": "execute_result"
    }
   ],
   "source": [
    "pd.read_csv('submission.csv').head()"
   ]
  },
  {
   "cell_type": "code",
   "execution_count": null,
   "id": "1d506e37",
   "metadata": {
    "papermill": {
     "duration": 0.064641,
     "end_time": "2023-04-08T21:05:07.906320",
     "exception": false,
     "start_time": "2023-04-08T21:05:07.841679",
     "status": "completed"
    },
    "tags": []
   },
   "outputs": [],
   "source": []
  }
 ],
 "metadata": {
  "kernelspec": {
   "display_name": "Python 3",
   "language": "python",
   "name": "python3"
  },
  "language_info": {
   "codemirror_mode": {
    "name": "ipython",
    "version": 3
   },
   "file_extension": ".py",
   "mimetype": "text/x-python",
   "name": "python",
   "nbconvert_exporter": "python",
   "pygments_lexer": "ipython3",
   "version": "3.7.12"
  },
  "papermill": {
   "default_parameters": {},
   "duration": 117.941374,
   "end_time": "2023-04-08T21:05:10.967510",
   "environment_variables": {},
   "exception": null,
   "input_path": "__notebook__.ipynb",
   "output_path": "__notebook__.ipynb",
   "parameters": {},
   "start_time": "2023-04-08T21:03:13.026136",
   "version": "2.4.0"
  }
 },
 "nbformat": 4,
 "nbformat_minor": 5
}
